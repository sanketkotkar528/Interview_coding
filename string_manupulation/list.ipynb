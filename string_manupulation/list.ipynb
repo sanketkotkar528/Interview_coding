{
 "cells": [
  {
   "cell_type": "markdown",
   "id": "f5ab95c3",
   "metadata": {},
   "source": [
    "Problem 1: Find the Maximum Element\n",
    "Problem Statement:\n",
    "Write a function find_max(numbers) that takes a list of integers numbers and returns the largest number in the list. Assume the list is non-empty.\n",
    "\n",
    "Example:\n",
    "\n",
    "Input: numbers = [3, 1, 4, 1, 5, 9, 2]\n",
    "\n",
    "Output: 9\n",
    "\n",
    "Approach:\n",
    "Initialize a variable max_num with the first element of the list. Then, iterate through the rest of the list. If any element is greater than max_num, update max_num.\n",
    "\n",
    "\n",
    "\n",
    "Complexity Analysis:\n",
    "\n",
    "        Time Complexity: O(N), where N is the number of elements in the list, because we iterate through the list once.\n",
    "\n",
    "        Space Complexity: O(1), as we only use a few constant extra variables."
   ]
  },
  {
   "cell_type": "code",
   "execution_count": 1,
   "id": "fc9b75ce",
   "metadata": {},
   "outputs": [
    {
     "name": "stdout",
     "output_type": "stream",
     "text": [
      "Max in [3, 1, 4, 1, 5, 9, 2]: 9\n",
      "Max in [100, 5, 20, 80]: 100\n",
      "Max in [-5, -1, -10]: -1\n"
     ]
    }
   ],
   "source": [
    "def find_max(numbers):\n",
    "    \"\"\"\n",
    "    Finds the maximum element in a list of numbers.\n",
    "\n",
    "    Args:\n",
    "        numbers (list): A non-empty list of integers.\n",
    "\n",
    "    Returns:\n",
    "        int: The largest number in the list.\n",
    "    \"\"\"\n",
    "    if not numbers:\n",
    "        raise ValueError(\"List cannot be empty\") # Handle empty list scenario\n",
    "\n",
    "    max_num = numbers[0] # Initialize with the first element\n",
    "\n",
    "    for num in numbers:\n",
    "        if num > max_num:\n",
    "            max_num = num\n",
    "    return max_num\n",
    "\n",
    "# Test cases\n",
    "print(f\"Max in [3, 1, 4, 1, 5, 9, 2]: {find_max([3, 1, 4, 1, 5, 9, 2])}\") # Expected: 9\n",
    "print(f\"Max in [100, 5, 20, 80]: {find_max([100, 5, 20, 80])}\") # Expected: 100\n",
    "print(f\"Max in [-5, -1, -10]: {find_max([-5, -1, -10])}\") # Expected: -1\n",
    "\n",
    "# Alternative (more Pythonic): return max(numbers)\n",
    "# print(f\"Max using built-in: {max([3, 1, 4, 1, 5, 9, 2])}\")"
   ]
  },
  {
   "cell_type": "markdown",
   "id": "8ca5d950",
   "metadata": {},
   "source": [
    "---"
   ]
  },
  {
   "cell_type": "markdown",
   "id": "be7bd97b",
   "metadata": {},
   "source": [
    "Problem 2: Count Occurrences of an Item\n",
    "Problem Statement:\n",
    "Write a function count_occurrences(lst, item) that takes a list lst and an item, and returns the number of times item appears in lst.\n",
    "\n",
    "Example:\n",
    "\n",
    "Input: lst = [1, 2, 2, 3, 2, 4], item = 2\n",
    "\n",
    "Output: 3\n",
    "\n",
    "Approach:\n",
    "Initialize a counter to 0. Iterate through the list, and for each element, check if it matches the item. If it does, increment the counter.\n",
    "\n",
    "\n",
    "Complexity Analysis:\n",
    "\n",
    "        Time Complexity: O(N), where N is the number of elements in the list, as we iterate through the list once.\n",
    "\n",
    "        Space Complexity: O(1), as we use a constant amount of extra space for the counter."
   ]
  },
  {
   "cell_type": "code",
   "execution_count": 2,
   "id": "71fe0255",
   "metadata": {},
   "outputs": [
    {
     "name": "stdout",
     "output_type": "stream",
     "text": [
      "Count of 2 in [1, 2, 2, 3, 2, 4]: 3\n",
      "Count of 'a' in ['a', 'b', 'a', 'c']: 2\n",
      "Count of 99 in [1, 2, 3]: 0\n"
     ]
    }
   ],
   "source": [
    "def count_occurrences(lst, item):\n",
    "    \"\"\"\n",
    "    Counts the number of times a specific item appears in a list.\n",
    "\n",
    "    Args:\n",
    "        lst (list): The list to search within.\n",
    "        item: The item to count occurrences of.\n",
    "\n",
    "    Returns:\n",
    "        int: The number of times the item appears.\n",
    "    \"\"\"\n",
    "    count = 0\n",
    "    for element in lst:\n",
    "        if element == item:\n",
    "            count += 1\n",
    "    return count\n",
    "\n",
    "# Test cases\n",
    "print(f\"Count of 2 in [1, 2, 2, 3, 2, 4]: {count_occurrences([1, 2, 2, 3, 2, 4], 2)}\") # Expected: 3\n",
    "print(f\"Count of 'a' in ['a', 'b', 'a', 'c']: {count_occurrences(['a', 'b', 'a', 'c'], 'a')}\") # Expected: 2\n",
    "print(f\"Count of 99 in [1, 2, 3]: {count_occurrences([1, 2, 3], 99)}\") # Expected: 0\n",
    "\n",
    "# Alternative (more Pythonic): return lst.count(item)\n",
    "# print(f\"Count using built-in: {[1, 2, 2, 3, 2, 4].count(2)}\")"
   ]
  },
  {
   "cell_type": "markdown",
   "id": "4e1cd833",
   "metadata": {},
   "source": [
    "---"
   ]
  },
  {
   "cell_type": "markdown",
   "id": "04e5b232",
   "metadata": {},
   "source": [
    "Problem 3: Remove Duplicates from a List\n",
    "Problem Statement:\n",
    "Write a function remove_duplicates(lst) that takes a list of integers lst and returns a new list containing only the unique elements. \n",
    "The order of the elements in the output list does not strictly matter.\n",
    "\n",
    "Example:\n",
    "\n",
    "Input: lst = [1, 2, 2, 3, 4, 4, 5]\n",
    "\n",
    "Output: [1, 2, 3, 4, 5] (order may vary, e.g., using set)\n",
    "\n",
    "Approach:\n",
    "The most straightforward and efficient way in Python is to leverage the properties of a set, which only stores unique elements.\n",
    "Convert the list to a set, then convert it back to a list.\n",
    "\n",
    "\n",
    "Complexity Analysis:\n",
    "\n",
    "        Time Complexity: O(N), where N is the number of elements in the list. Converting a list to a set and back takes linear time on average.\n",
    "\n",
    "        Space Complexity: O(N), as a new set (and then a new list) is created to store the unique elements, which can, in the worst case (no duplicates), store all N elements."
   ]
  },
  {
   "cell_type": "code",
   "execution_count": 3,
   "id": "3ad7bb21",
   "metadata": {},
   "outputs": [
    {
     "name": "stdout",
     "output_type": "stream",
     "text": [
      "Original: [1, 2, 2, 3, 4, 4, 5], Unique: [1, 2, 3, 4, 5]\n",
      "Original: ['a', 'b', 'a', 'c'], Unique: ['a', 'b', 'c']\n",
      "Original: [1, 1, 1], Unique: [1]\n",
      "Original: [1, 2, 2, 3, 4, 4, 5], Unique (preserved order): [1, 2, 3, 4, 5]\n"
     ]
    }
   ],
   "source": [
    "def remove_duplicates(lst):\n",
    "    \"\"\"\n",
    "    Removes duplicate elements from a list.\n",
    "\n",
    "    Args:\n",
    "        lst (list): The input list.\n",
    "\n",
    "    Returns:\n",
    "        list: A new list containing only unique elements.\n",
    "    \"\"\"\n",
    "    # Convert the list to a set to automatically remove duplicates\n",
    "    # Sets are unordered, so the order of elements might change\n",
    "    unique_elements = set(lst)\n",
    "\n",
    "    # Convert the set back to a list\n",
    "    return list(unique_elements)\n",
    "\n",
    "# Test cases\n",
    "print(f\"Original: [1, 2, 2, 3, 4, 4, 5], Unique: {remove_duplicates([1, 2, 2, 3, 4, 4, 5])}\")\n",
    "# Expected: A list containing 1, 2, 3, 4, 5 in some order\n",
    "\n",
    "print(f\"Original: ['a', 'b', 'a', 'c'], Unique: {remove_duplicates(['a', 'b', 'a', 'c'])}\")\n",
    "# Expected: A list containing 'a', 'b', 'c' in some order\n",
    "\n",
    "print(f\"Original: [1, 1, 1], Unique: {remove_duplicates([1, 1, 1])}\")\n",
    "# Expected: [1]\n",
    "\n",
    "# If preserving order is important, a different approach is needed:\n",
    "def remove_duplicates_preserve_order(lst):\n",
    "    seen = set()\n",
    "    result = []\n",
    "    for item in lst:\n",
    "        if item not in seen:\n",
    "            seen.add(item)\n",
    "            result.append(item)\n",
    "    return result\n",
    "\n",
    "print(f\"Original: [1, 2, 2, 3, 4, 4, 5], Unique (preserved order): {remove_duplicates_preserve_order([1, 2, 2, 3, 4, 4, 5])}\")\n",
    "# Expected: [1, 2, 3, 4, 5]"
   ]
  },
  {
   "cell_type": "markdown",
   "id": "626b657e",
   "metadata": {},
   "source": [
    "---"
   ]
  },
  {
   "cell_type": "markdown",
   "id": "acd892b7",
   "metadata": {},
   "source": [
    "Problem 4: Two Sum\n",
    "Problem Statement:\n",
    "Given a list of integers nums and an integer target, return indices of the two numbers such that they add up to target. You may assume that each input would have exactly one solution, and you may not use the same element twice.\n",
    "\n",
    "Example:\n",
    "\n",
    "Input: nums = [2, 7, 11, 15], target = 9\n",
    "\n",
    "Output: [0, 1] (because nums[0] + nums[1] == 2 + 7 == 9)\n",
    "\n",
    "Approach:\n",
    "A brute-force approach would be to use nested loops (O(N^2)), but a more efficient approach uses a hash map (dictionary in Python).\n",
    "Iterate through the list. For each number, calculate its complement (i.e., target - current_number). Check if this complement already exists as a key in the hash map.\n",
    "\n",
    "If it does, you've found the pair! Return the current index and the index stored with the complement in the map.\n",
    "\n",
    "If it doesn't, add the current number and its index to the hash map.\n",
    "\n",
    "\n",
    "Complexity Analysis:\n",
    "\n",
    "        Time Complexity: O(N), where N is the number of elements in nums. We iterate through the list once. Dictionary lookups and insertions take O(1) time on average.\n",
    "\n",
    "        Space Complexity: O(N), as in the worst case, we might store all N elements in the hash map if no pair is found until the last element.\n"
   ]
  },
  {
   "cell_type": "code",
   "execution_count": null,
   "id": "edaa3e94",
   "metadata": {},
   "outputs": [],
   "source": [
    "def two_sum(nums, target):\n",
    "    \"\"\"\n",
    "    Finds two numbers in a list that add up to a specific target.\n",
    "\n",
    "    Args:\n",
    "        nums (list): A list of integers.\n",
    "        target (int): The target sum.\n",
    "\n",
    "    Returns:\n",
    "        list: A list containing the indices of the two numbers.\n",
    "              Returns None if no solution is found (though problem statement assumes one).\n",
    "    \"\"\"\n",
    "    num_map = {} # Dictionary to store {number: index}\n",
    "\n",
    "    for i, num in enumerate(nums):\n",
    "        complement = target - num\n",
    "        if complement in num_map:\n",
    "            # Found the complement, return its index and the current index\n",
    "            return [num_map[complement], i]\n",
    "        else:\n",
    "            # Add the current number and its index to the map\n",
    "            num_map[num] = i\n",
    "    \n",
    "    return None # Should not be reached based on problem statement (exactly one solution)\n",
    "\n",
    "# Test cases\n",
    "print(f\"Two Sum for [2, 7, 11, 15], target 9: {two_sum([2, 7, 11, 15], 9)}\") # Expected: [0, 1]\n",
    "print(f\"Two Sum for [3, 2, 4], target 6: {two_sum([3, 2, 4], 6)}\") # Expected: [1, 2]\n",
    "print(f\"Two Sum for [3, 3], target 6: {two_sum([3, 3], 6)}\") # Expected: [0, 1]\n",
    "print(f\"Two Sum for [1, 5, 2, 8], target 10: {two_sum([1, 5, 2, 8], 10)}\") # Expected: [1, 3]"
   ]
  },
  {
   "cell_type": "markdown",
   "id": "dd0eb3c9",
   "metadata": {},
   "source": [
    "---"
   ]
  },
  {
   "cell_type": "markdown",
   "id": "bfe6684a",
   "metadata": {},
   "source": [
    "Problem 5: Rotate List\n",
    "Problem Statement:\n",
    "Given a list, nums, rotate the list to the right by k steps. k is non-negative.\n",
    "The rotation should be performed in-place.\n",
    "\n",
    "Example:\n",
    "\n",
    "Input: nums = [1, 2, 3, 4, 5, 6, 7], k = 3\n",
    "\n",
    "Output: nums becomes [5, 6, 7, 1, 2, 3, 4]\n",
    "\n",
    "Approach (Using Reversals - In-place and Efficient):\n",
    "This is a clever and efficient in-place method.\n",
    "\n",
    "Normalize k: k can be larger than the list length. Take k % len(nums) to get the effective rotations.\n",
    "\n",
    "Reverse the entire list: [7, 6, 5, 4, 3, 2, 1]\n",
    "\n",
    "Reverse the first k elements: [5, 6, 7, 4, 3, 2, 1]\n",
    "\n",
    "Reverse the remaining n-k elements: [5, 6, 7, 1, 2, 3, 4]\n",
    "\n",
    "This works because reversing the entire list brings the elements that should be at the end to the beginning. \n",
    "Then, reversing the first k elements puts them in their final correct order, and reversing the rest puts the original beginning elements \n",
    "into their final rotated order."
   ]
  },
  {
   "cell_type": "code",
   "execution_count": 6,
   "id": "cda8d526",
   "metadata": {},
   "outputs": [
    {
     "name": "stdout",
     "output_type": "stream",
     "text": [
      "Rotated [1,2,3,4,5,6,7] by 3: [5, 6, 7, 1, 2, 3, 4]\n",
      "Rotated [-1,-100,3,99] by 2: [3, 99, -1, -100]\n",
      "Rotated [1,2] by 5: [2, 1]\n"
     ]
    }
   ],
   "source": [
    "def rotate(nums, k):\n",
    "    \"\"\"\n",
    "    Rotates a list to the right by k steps, in-place.\n",
    "\n",
    "    Args:\n",
    "        nums (list): The list of integers to rotate.\n",
    "        k (int): The number of steps to rotate.\n",
    "    \"\"\"\n",
    "    n = len(nums)\n",
    "    if n == 0 or k == 0:\n",
    "        return # Nothing to rotate\n",
    "\n",
    "    # Normalize k in case it's larger than the list length\n",
    "    k = k % n\n",
    "\n",
    "    # Helper function to reverse a sublist\n",
    "    def reverse_sublist(start, end):\n",
    "        while start < end:\n",
    "            nums[start], nums[end] = nums[end], nums[start]\n",
    "            start += 1\n",
    "            end -= 1\n",
    "\n",
    "    # 1. Reverse the entire list\n",
    "    reverse_sublist(0, n - 1)\n",
    "    # Example: [1, 2, 3, 4, 5, 6, 7] -> [7, 6, 5, 4, 3, 2, 1]\n",
    "\n",
    "    # 2. Reverse the first k elements\n",
    "    reverse_sublist(0, k - 1)\n",
    "    # Example (k=3): [7, 6, 5, 4, 3, 2, 1] -> [5, 6, 7, 4, 3, 2, 1]\n",
    "\n",
    "    # 3. Reverse the remaining n-k elements\n",
    "    reverse_sublist(k, n - 1)\n",
    "    # Example: [5, 6, 7, 4, 3, 2, 1] -> [5, 6, 7, 1, 2, 3, 4]\n",
    "\n",
    "# Test cases (note: lists are modified in-place)\n",
    "list1 = [1, 2, 3, 4, 5, 6, 7]\n",
    "rotate(list1, 3)\n",
    "print(f\"Rotated [1,2,3,4,5,6,7] by 3: {list1}\") # Expected: [5, 6, 7, 1, 2, 3, 4]\n",
    "\n",
    "list2 = [-1, -100, 3, 99]\n",
    "rotate(list2, 2)\n",
    "print(f\"Rotated [-1,-100,3,99] by 2: {list2}\") # Expected: [3, 99, -1, -100]\n",
    "\n",
    "list3 = [1, 2]\n",
    "rotate(list3, 5) # k = 5 % 2 = 1\n",
    "print(f\"Rotated [1,2] by 5: {list3}\") # Expected: [2, 1]"
   ]
  },
  {
   "cell_type": "code",
   "execution_count": null,
   "id": "c14e2b1a",
   "metadata": {},
   "outputs": [],
   "source": []
  },
  {
   "cell_type": "code",
   "execution_count": null,
   "id": "fedb29aa",
   "metadata": {},
   "outputs": [],
   "source": []
  },
  {
   "cell_type": "code",
   "execution_count": null,
   "id": "340ef528",
   "metadata": {},
   "outputs": [],
   "source": []
  },
  {
   "cell_type": "code",
   "execution_count": null,
   "id": "13c7d104",
   "metadata": {},
   "outputs": [],
   "source": []
  }
 ],
 "metadata": {
  "kernelspec": {
   "display_name": "base",
   "language": "python",
   "name": "python3"
  },
  "language_info": {
   "codemirror_mode": {
    "name": "ipython",
    "version": 3
   },
   "file_extension": ".py",
   "mimetype": "text/x-python",
   "name": "python",
   "nbconvert_exporter": "python",
   "pygments_lexer": "ipython3",
   "version": "3.9.13"
  }
 },
 "nbformat": 4,
 "nbformat_minor": 5
}
