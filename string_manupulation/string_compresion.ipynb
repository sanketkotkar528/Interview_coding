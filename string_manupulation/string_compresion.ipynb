{
 "cells": [
  {
   "cell_type": "markdown",
   "id": "26d0b70a",
   "metadata": {},
   "source": [
    "# String Manupulation\n",
    "\n",
    "### Question : Implement string compression (e.g., convert \"aaabbbccc\" to \"a3b3c3\")."
   ]
  },
  {
   "cell_type": "code",
   "execution_count": 10,
   "id": "e3cec3d8",
   "metadata": {},
   "outputs": [
    {
     "name": "stdout",
     "output_type": "stream",
     "text": [
      "Enter a string to compress: aaaabaa\n",
      "Compressed string: a4b1a2\n"
     ]
    }
   ],
   "source": [
    "def compress_string(s):\n",
    "    compressed_string = \"\"\n",
    "    count = 1\n",
    "\n",
    "    # Edge case for an empty string\n",
    "    if not s:\n",
    "        return \"\"\n",
    "\n",
    "    # Iterate through the string\n",
    "    for i in range(1, len(s)):\n",
    "        # If current character is the same as previous one, increment count\n",
    "        if s[i] == s[i - 1]:\n",
    "            count += 1\n",
    "        else:\n",
    "            # If different character encountered, append the character and its count to compressed string\n",
    "            compressed_string += s[i - 1] + str(count)\n",
    "            count = 1  # Reset count for new character\n",
    "    \n",
    "    # Append the last character and its count to compressed string\n",
    "    compressed_string += s[-1] + str(count)\n",
    "\n",
    "    # Check if compressed string is shorter than original string, return the shorter one\n",
    "#     return compressed_string if len(compressed_string) < len(s) else s\n",
    "    return compressed_string\n",
    "\n",
    "# Test the function\n",
    "input_string = input(\"Enter a string to compress: \")\n",
    "compressed_result = compress_string(input_string)\n",
    "print(\"Compressed string:\", compressed_result)\n"
   ]
  }
 ],
 "metadata": {
  "kernelspec": {
   "display_name": "Python 3 (ipykernel)",
   "language": "python",
   "name": "python3"
  },
  "language_info": {
   "codemirror_mode": {
    "name": "ipython",
    "version": 3
   },
   "file_extension": ".py",
   "mimetype": "text/x-python",
   "name": "python",
   "nbconvert_exporter": "python",
   "pygments_lexer": "ipython3",
   "version": "3.9.13"
  }
 },
 "nbformat": 4,
 "nbformat_minor": 5
}
