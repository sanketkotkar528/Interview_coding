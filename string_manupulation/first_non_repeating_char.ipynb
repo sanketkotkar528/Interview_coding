{
 "cells": [
  {
   "cell_type": "markdown",
   "id": "44c19421",
   "metadata": {},
   "source": [
    "# String Manupulation\n",
    "\n",
    "### Question : Find the first non-repeating character in a string."
   ]
  },
  {
   "cell_type": "code",
   "execution_count": 1,
   "id": "24b04e6f",
   "metadata": {},
   "outputs": [
    {
     "name": "stdout",
     "output_type": "stream",
     "text": [
      "Enter a string: Sanket\n",
      "The first non-repeating character is: S\n"
     ]
    }
   ],
   "source": [
    "def first_non_repeating_char(s):\n",
    "    # Create a dictionary to store the count of each character\n",
    "    char_count = {}\n",
    "    \n",
    "    # Count occurrences of each character in the string\n",
    "    for char in s:\n",
    "        if char in char_count:\n",
    "            char_count[char] += 1\n",
    "        else:\n",
    "            char_count[char] = 1\n",
    "    \n",
    "    # Find the first non-repeating character\n",
    "    for char in s:\n",
    "        if char_count[char] == 1:\n",
    "            return char\n",
    "    \n",
    "    # If no non-repeating character is found, return None\n",
    "    return None\n",
    "\n",
    "# Test the function\n",
    "input_string = input(\"Enter a string: \")\n",
    "first_non_repeating = first_non_repeating_char(input_string)\n",
    "if first_non_repeating:\n",
    "    print(\"The first non-repeating character is:\", first_non_repeating)\n",
    "else:\n",
    "    print(\"There are no non-repeating characters in the string.\")"
   ]
  }
 ],
 "metadata": {
  "kernelspec": {
   "display_name": "Python 3 (ipykernel)",
   "language": "python",
   "name": "python3"
  },
  "language_info": {
   "codemirror_mode": {
    "name": "ipython",
    "version": 3
   },
   "file_extension": ".py",
   "mimetype": "text/x-python",
   "name": "python",
   "nbconvert_exporter": "python",
   "pygments_lexer": "ipython3",
   "version": "3.9.13"
  }
 },
 "nbformat": 4,
 "nbformat_minor": 5
}
