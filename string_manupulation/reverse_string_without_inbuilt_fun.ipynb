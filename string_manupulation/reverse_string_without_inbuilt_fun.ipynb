{
 "cells": [
  {
   "cell_type": "markdown",
   "id": "b54da4b1",
   "metadata": {},
   "source": [
    "# String Manupulation\n",
    "\n",
    "### Question: \n",
    "\n",
    "- Reverse a string without using built-in functions."
   ]
  },
  {
   "cell_type": "code",
   "execution_count": 1,
   "id": "381b5414",
   "metadata": {},
   "outputs": [],
   "source": [
    "string = 'sanket'"
   ]
  },
  {
   "cell_type": "code",
   "execution_count": 4,
   "id": "62d5548e",
   "metadata": {},
   "outputs": [],
   "source": [
    "b = ''\n",
    "for i in string:\n",
    "    b = i+b"
   ]
  },
  {
   "cell_type": "code",
   "execution_count": 5,
   "id": "a57c7150",
   "metadata": {},
   "outputs": [
    {
     "data": {
      "text/plain": [
       "'teknas'"
      ]
     },
     "execution_count": 5,
     "metadata": {},
     "output_type": "execute_result"
    }
   ],
   "source": [
    "b"
   ]
  }
 ],
 "metadata": {
  "kernelspec": {
   "display_name": "Python 3 (ipykernel)",
   "language": "python",
   "name": "python3"
  },
  "language_info": {
   "codemirror_mode": {
    "name": "ipython",
    "version": 3
   },
   "file_extension": ".py",
   "mimetype": "text/x-python",
   "name": "python",
   "nbconvert_exporter": "python",
   "pygments_lexer": "ipython3",
   "version": "3.9.13"
  }
 },
 "nbformat": 4,
 "nbformat_minor": 5
}
