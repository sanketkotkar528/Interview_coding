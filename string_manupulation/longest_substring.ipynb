{
 "cells": [
  {
   "cell_type": "markdown",
   "metadata": {},
   "source": [
    "# Longest Substring in Alphabetical (Non-Decreasing) Order"
   ]
  },
  {
   "cell_type": "markdown",
   "metadata": {},
   "source": [
    "Given a string of lowercase letters, find the longest substring where the letters are in alphabetical (non-decreasing) order.\n",
    "\n",
    "Each character in the substring should be equal to or greater than the one before it."
   ]
  },
  {
   "cell_type": "code",
   "execution_count": 12,
   "metadata": {},
   "outputs": [
    {
     "name": "stdout",
     "output_type": "stream",
     "text": [
      "abcdexyz\n",
      "abcde\n"
     ]
    }
   ],
   "source": [
    "def longest_alphabetical_substring(s):\n",
    "    if not s:\n",
    "        return \"\"\n",
    "\n",
    "    longest = current = s[0]\n",
    "\n",
    "    for i in range(1, len(s)):\n",
    "        if s[i] >= s[i - 1]:\n",
    "            current += s[i]\n",
    "            if len(current) > len(longest):\n",
    "                longest = current\n",
    "        else:\n",
    "            current = s[i]\n",
    "\n",
    "    return longest\n",
    "\n",
    "# Example\n",
    "print(longest_alphabetical_substring(\"abcabcdexyz\"))  # Output: \"abcdexyz\" \n",
    "print(longest_alphabetical_substring(\"abcabcdebyz\"))  # Output: \"abcde\"\n"
   ]
  },
  {
   "cell_type": "markdown",
   "metadata": {},
   "source": [
    "### Most frequent Character of substring"
   ]
  },
  {
   "cell_type": "code",
   "execution_count": 9,
   "metadata": {},
   "outputs": [
    {
     "name": "stdout",
     "output_type": "stream",
     "text": [
      "('d', 5)\n"
     ]
    }
   ],
   "source": [
    "def most_frequent_char(s):\n",
    "    freq = {}\n",
    "\n",
    "    for ch in s:\n",
    "        if ch in freq:\n",
    "            freq[ch] += 1\n",
    "        else:\n",
    "            freq[ch] = 1\n",
    "\n",
    "    max_char = s[0]\n",
    "    for ch in freq:\n",
    "        if freq[ch] > freq[max_char]:\n",
    "            max_char = ch\n",
    "\n",
    "    return max_char, freq[max_char]\n",
    "\n",
    "print(most_frequent_char(\"aabbbccddddd\"))  # Output: ('d', 5)\n"
   ]
  },
  {
   "cell_type": "code",
   "execution_count": null,
   "metadata": {},
   "outputs": [],
   "source": []
  },
  {
   "cell_type": "code",
   "execution_count": null,
   "metadata": {},
   "outputs": [],
   "source": []
  }
 ],
 "metadata": {
  "kernelspec": {
   "display_name": "base",
   "language": "python",
   "name": "python3"
  },
  "language_info": {
   "codemirror_mode": {
    "name": "ipython",
    "version": 3
   },
   "file_extension": ".py",
   "mimetype": "text/x-python",
   "name": "python",
   "nbconvert_exporter": "python",
   "pygments_lexer": "ipython3",
   "version": "3.9.13"
  }
 },
 "nbformat": 4,
 "nbformat_minor": 2
}
