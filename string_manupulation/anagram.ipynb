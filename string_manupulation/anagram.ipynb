{
 "cells": [
  {
   "cell_type": "markdown",
   "id": "50de468c",
   "metadata": {},
   "source": [
    "# String Manupulation\n",
    "\n",
    "### Question : Check if two strings are anagrams of each other."
   ]
  },
  {
   "cell_type": "markdown",
   "id": "65975722",
   "metadata": {},
   "source": [
    "An anagram is a word or phrase formed by rearranging the letters of another word or phrase, using all the original letters exactly once. In simpler terms, an anagram is created by rearranging the letters of a word or phrase to produce a new word or phrase, using all the original letters exactly once.\n",
    "\n",
    "For example:\n",
    "\n",
    "    - \"listen\" and \"silent\" are anagrams of each other.\n",
    "    - \"triangle\" and \"integral\" are anagrams of each other.\n",
    "    - \"debit card\" and \"bad credit\" are anagrams of each other.\n",
    "\n",
    "\n",
    "Anagrams are commonly used in word games, puzzles, and cryptography, and they can provide amusement or challenge by requiring the solver to think creatively about word arrangements."
   ]
  },
  {
   "cell_type": "code",
   "execution_count": 2,
   "id": "1b2af575",
   "metadata": {},
   "outputs": [
    {
     "name": "stdout",
     "output_type": "stream",
     "text": [
      "Enter the first string: Sanket\n",
      "Enter the second string: teknas\n",
      "The strings are anagrams of each other.\n"
     ]
    }
   ],
   "source": [
    "def are_anagrams(str1, str2):\n",
    "    # Remove spaces and convert to lowercase\n",
    "    str1 = str1.replace(\" \", \"\").lower()\n",
    "    str2 = str2.replace(\" \", \"\").lower()\n",
    "    \n",
    "    # Check if the lengths of the strings are equal\n",
    "    if len(str1) != len(str2):\n",
    "        return False\n",
    "    \n",
    "    # Sort the characters in both strings\n",
    "    sorted_str1 = sorted(str1)\n",
    "    sorted_str2 = sorted(str2)\n",
    "    \n",
    "    # Compare sorted strings\n",
    "    if sorted_str1 == sorted_str2:\n",
    "        return True\n",
    "    else:\n",
    "        return False\n",
    "\n",
    "# Test the function\n",
    "string1 = input(\"Enter the first string: \")\n",
    "string2 = input(\"Enter the second string: \")\n",
    "\n",
    "if are_anagrams(string1, string2):\n",
    "    print(\"The strings are anagrams of each other.\")\n",
    "else:\n",
    "    print(\"The strings are not anagrams of each other.\")\n"
   ]
  }
 ],
 "metadata": {
  "kernelspec": {
   "display_name": "Python 3 (ipykernel)",
   "language": "python",
   "name": "python3"
  },
  "language_info": {
   "codemirror_mode": {
    "name": "ipython",
    "version": 3
   },
   "file_extension": ".py",
   "mimetype": "text/x-python",
   "name": "python",
   "nbconvert_exporter": "python",
   "pygments_lexer": "ipython3",
   "version": "3.9.13"
  }
 },
 "nbformat": 4,
 "nbformat_minor": 5
}
