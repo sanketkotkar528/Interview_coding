{
 "cells": [
  {
   "cell_type": "markdown",
   "id": "ea693f41",
   "metadata": {},
   "source": [
    "# String Manupulation\n",
    "\n",
    "### Question :  Check if a string is palindrome."
   ]
  },
  {
   "cell_type": "markdown",
   "id": "91073eec",
   "metadata": {},
   "source": [
    "A palindrome is a word, phrase, number, or other sequence of characters that reads the same forward and backward. In other words, if you were to reverse the order of the characters in a palindrome, it would still be the same sequence of characters.\n",
    "\n",
    "For example, some common palindromic words are \"radar\", \"level\", \"deified\", and \"civic\". An example of a palindromic phrase is \"A man, a plan, a canal, Panama!\". Additionally, palindromic numbers include \"121\", \"1331\", and \"12321\".\n",
    "\n",
    "Palindromes are interesting linguistic phenomena and are often used for puzzles, games, and wordplay. They can occur in various languages and can be found in names, sentences, and even entire books."
   ]
  },
  {
   "cell_type": "code",
   "execution_count": 2,
   "id": "90211d8b",
   "metadata": {},
   "outputs": [
    {
     "name": "stdout",
     "output_type": "stream",
     "text": [
      "Enter a string to check if it's a palindrome: SaaS\n",
      "Yes, it's a palindrome.\n"
     ]
    }
   ],
   "source": [
    "def is_palindrome(s):\n",
    "    # Remove spaces and convert to lowercase\n",
    "    s = s.replace(\" \", \"\").lower()\n",
    "    \n",
    "    # Compare the string with its reverse\n",
    "    return s == s[::-1]\n",
    "\n",
    "# Test the function\n",
    "input_string = input(\"Enter a string to check if it's a palindrome: \")\n",
    "if is_palindrome(input_string):\n",
    "    print(\"Yes, it's a palindrome.\")\n",
    "else:\n",
    "    print(\"No, it's not a palindrome.\")\n"
   ]
  },
  {
   "cell_type": "code",
   "execution_count": null,
   "id": "cd0e4605",
   "metadata": {},
   "outputs": [],
   "source": []
  }
 ],
 "metadata": {
  "kernelspec": {
   "display_name": "Python 3 (ipykernel)",
   "language": "python",
   "name": "python3"
  },
  "language_info": {
   "codemirror_mode": {
    "name": "ipython",
    "version": 3
   },
   "file_extension": ".py",
   "mimetype": "text/x-python",
   "name": "python",
   "nbconvert_exporter": "python",
   "pygments_lexer": "ipython3",
   "version": "3.9.13"
  }
 },
 "nbformat": 4,
 "nbformat_minor": 5
}
