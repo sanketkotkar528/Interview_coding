{
 "cells": [
  {
   "cell_type": "markdown",
   "id": "fbeb6a8f",
   "metadata": {},
   "source": [
    "# Array Manupulation\n",
    "\n",
    "### Question : Rotate an array by a given number of steps."
   ]
  },
  {
   "cell_type": "markdown",
   "id": "135159e4",
   "metadata": {},
   "source": [
    "To rotate an array by a given number of steps, you can use array slicing in Python. \n",
    "\n",
    "Here's a Python function to rotate an array:"
   ]
  },
  {
   "cell_type": "code",
   "execution_count": 2,
   "id": "3605f21c",
   "metadata": {},
   "outputs": [
    {
     "name": "stdout",
     "output_type": "stream",
     "text": [
      "Rotated array: [3, 4, 5, 1, 2]\n"
     ]
    }
   ],
   "source": [
    "def rotate_array(arr, steps):\n",
    "    n = len(arr)\n",
    "    steps %= n  # Handle cases where steps are greater than the length of the array\n",
    "    \n",
    "    # Rotate the array using array slicing\n",
    "    arr[:] = arr[-steps:] + arr[:-steps]\n",
    "\n",
    "# Test the function\n",
    "arr = [1, 2, 3, 4, 5]\n",
    "steps = 3\n",
    "rotate_array(arr, steps)\n",
    "print(\"Rotated array:\", arr)\n"
   ]
  },
  {
   "cell_type": "markdown",
   "id": "d5c44fb0",
   "metadata": {},
   "source": [
    "- We first calculate the length of the array n.\n",
    "- We then use the modulo operator % to handle cases where the number of steps is greater than the length of the array. This ensures that we only rotate by the necessary number of steps.\n",
    "- We rotate the array by slicing it into two parts: the last steps elements and the remaining elements, and then concatenating them in reverse order.\n",
    "- Finally, we update the original array with the rotated array.\n",
    "\n",
    "You can test the function by passing different arrays and numbers of steps to rotate."
   ]
  }
 ],
 "metadata": {
  "kernelspec": {
   "display_name": "Python 3 (ipykernel)",
   "language": "python",
   "name": "python3"
  },
  "language_info": {
   "codemirror_mode": {
    "name": "ipython",
    "version": 3
   },
   "file_extension": ".py",
   "mimetype": "text/x-python",
   "name": "python",
   "nbconvert_exporter": "python",
   "pygments_lexer": "ipython3",
   "version": "3.9.13"
  }
 },
 "nbformat": 4,
 "nbformat_minor": 5
}
