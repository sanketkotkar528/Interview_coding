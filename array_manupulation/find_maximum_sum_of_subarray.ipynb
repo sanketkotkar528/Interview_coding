{
 "cells": [
  {
   "cell_type": "markdown",
   "id": "7a6acb61",
   "metadata": {},
   "source": [
    "# Array Manupulation\n",
    "\n",
    "### Question : Find the maximum subarray sum."
   ]
  },
  {
   "cell_type": "markdown",
   "id": "40a7bc73",
   "metadata": {},
   "source": [
    "Finding the maximum subarray sum is a classic problem in computer science. \n",
    "\n",
    "One efficient way to solve it is using **Kadane's algorithm**. \n",
    "\n",
    "Here's a Python implementation of Kadane's algorithm:"
   ]
  },
  {
   "cell_type": "code",
   "execution_count": 1,
   "id": "7df39dd0",
   "metadata": {},
   "outputs": [
    {
     "name": "stdout",
     "output_type": "stream",
     "text": [
      "Maximum subarray sum: 6\n"
     ]
    }
   ],
   "source": [
    "def max_subarray_sum(arr):\n",
    "    max_sum = float('-inf')  # Initialize max_sum to negative infinity\n",
    "    current_sum = 0  # Initialize current_sum to 0\n",
    "    \n",
    "    for num in arr:\n",
    "        current_sum = max(num, current_sum + num)\n",
    "        max_sum = max(max_sum, current_sum)\n",
    "    \n",
    "    return max_sum\n",
    "\n",
    "# Test the function\n",
    "arr = [-2, 1, -3, 4, -1, 2, 1, -5, 4]\n",
    "print(\"Maximum subarray sum:\", max_subarray_sum(arr))\n"
   ]
  }
 ],
 "metadata": {
  "kernelspec": {
   "display_name": "Python 3 (ipykernel)",
   "language": "python",
   "name": "python3"
  },
  "language_info": {
   "codemirror_mode": {
    "name": "ipython",
    "version": 3
   },
   "file_extension": ".py",
   "mimetype": "text/x-python",
   "name": "python",
   "nbconvert_exporter": "python",
   "pygments_lexer": "ipython3",
   "version": "3.9.13"
  }
 },
 "nbformat": 4,
 "nbformat_minor": 5
}
