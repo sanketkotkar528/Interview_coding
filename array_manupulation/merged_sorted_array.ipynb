{
 "cells": [
  {
   "cell_type": "markdown",
   "id": "d83e3a6d",
   "metadata": {},
   "source": [
    "# Array MAnupulation\n",
    "\n",
    "### Quaestion : Merge two sorted arrays into one sorted array."
   ]
  },
  {
   "cell_type": "markdown",
   "id": "3ffdcfea",
   "metadata": {},
   "source": [
    "In this function:\n",
    "\n",
    "- We initialize an empty list merged to store the merged sorted array.\n",
    "- We use two pointers i and j to traverse arr1 and arr2 respectively.\n",
    "- While both arrays have elements remaining, we compare the elements at the current positions of i and j, and append the smaller one to the merged list. We then increment the corresponding pointer.\n",
    "- After one of the arrays is exhausted, we append the remaining elements from the other array to the merged list.\n",
    "\n",
    "Finally, we return the merged list containing the merged sorted array."
   ]
  },
  {
   "cell_type": "code",
   "execution_count": 1,
   "id": "9e6bb2b3",
   "metadata": {},
   "outputs": [
    {
     "name": "stdout",
     "output_type": "stream",
     "text": [
      "Merged sorted array: [1, 2, 3, 4, 5, 6, 7, 8, 9, 10]\n"
     ]
    }
   ],
   "source": [
    "def merge_sorted_arrays(arr1, arr2):\n",
    "    merged = []\n",
    "    i = j = 0\n",
    "\n",
    "    # Merge the arrays while both arrays have elements remaining\n",
    "    while i < len(arr1) and j < len(arr2):\n",
    "        if arr1[i] < arr2[j]:\n",
    "            merged.append(arr1[i])\n",
    "            i += 1\n",
    "        else:\n",
    "            merged.append(arr2[j])\n",
    "            j += 1\n",
    "    \n",
    "    # Append remaining elements from the first array, if any\n",
    "    while i < len(arr1):\n",
    "        merged.append(arr1[i])\n",
    "        i += 1\n",
    "    \n",
    "    # Append remaining elements from the second array, if any\n",
    "    while j < len(arr2):\n",
    "        merged.append(arr2[j])\n",
    "        j += 1\n",
    "    \n",
    "    return merged\n",
    "\n",
    "# Test the function\n",
    "arr1 = [1, 3, 5, 7, 9]\n",
    "arr2 = [2, 4, 6, 8, 10]\n",
    "merged_array = merge_sorted_arrays(arr1, arr2)\n",
    "print(\"Merged sorted array:\", merged_array)\n"
   ]
  },
  {
   "cell_type": "code",
   "execution_count": null,
   "id": "3b5c878f",
   "metadata": {},
   "outputs": [],
   "source": []
  }
 ],
 "metadata": {
  "kernelspec": {
   "display_name": "Python 3 (ipykernel)",
   "language": "python",
   "name": "python3"
  },
  "language_info": {
   "codemirror_mode": {
    "name": "ipython",
    "version": 3
   },
   "file_extension": ".py",
   "mimetype": "text/x-python",
   "name": "python",
   "nbconvert_exporter": "python",
   "pygments_lexer": "ipython3",
   "version": "3.9.13"
  }
 },
 "nbformat": 4,
 "nbformat_minor": 5
}
