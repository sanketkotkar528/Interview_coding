{
 "cells": [
  {
   "cell_type": "markdown",
   "id": "642aae8f",
   "metadata": {},
   "source": [
    "# Array Manupulation\n",
    "\n",
    "### Question : Remove duplicates from a sorted array in-place"
   ]
  },
  {
   "cell_type": "markdown",
   "id": "29f0e114",
   "metadata": {},
   "source": [
    "To remove duplicates from a sorted array in-place, you can iterate through the array, maintaining two pointers: \n",
    "\n",
    "- one to track the current unique element and another to iterate through the array. \n",
    "    \n",
    "Here's a Python function to achieve this:"
   ]
  },
  {
   "cell_type": "code",
   "execution_count": 1,
   "id": "2bc8ab26",
   "metadata": {},
   "outputs": [
    {
     "name": "stdout",
     "output_type": "stream",
     "text": [
      "Length of array after removing duplicates: 5\n",
      "Array after removing duplicates: [0, 1, 2, 3, 4]\n"
     ]
    }
   ],
   "source": [
    "def remove_duplicates(nums):\n",
    "    if not nums:\n",
    "        return 0\n",
    "    \n",
    "    # Initialize pointer for unique elements\n",
    "    unique_index = 0\n",
    "    \n",
    "    # Iterate through the array starting from the second element\n",
    "    for i in range(1, len(nums)):\n",
    "        # If current element is different from previous unique element, update unique element\n",
    "        if nums[i] != nums[unique_index]:\n",
    "            unique_index += 1\n",
    "            nums[unique_index] = nums[i]\n",
    "    \n",
    "    # Return length of unique elements\n",
    "    return unique_index + 1\n",
    "\n",
    "# Test the function\n",
    "arr = [0, 0, 1, 1, 1, 2, 2, 3, 3, 4]\n",
    "new_length = remove_duplicates(arr)\n",
    "print(\"Length of array after removing duplicates:\", new_length)\n",
    "print(\"Array after removing duplicates:\", arr[:new_length])\n"
   ]
  },
  {
   "cell_type": "markdown",
   "id": "1992b461",
   "metadata": {},
   "source": [
    "In this function:\n",
    "\n",
    "- We first handle the edge case where the array is empty.\n",
    "- We initialize a pointer unique_index to track the position of the last unique element.\n",
    "- We iterate through the array starting from the second element (i = 1). For each element, if it is different from the previous unique element, we update the unique element and increment unique_index.\n",
    "- Finally, we return the length of the unique elements (unique_index + 1).\n",
    "\n",
    "You can test the function with different sorted arrays containing duplicates."
   ]
  },
  {
   "cell_type": "code",
   "execution_count": null,
   "id": "bc436d58",
   "metadata": {},
   "outputs": [],
   "source": []
  },
  {
   "cell_type": "code",
   "execution_count": null,
   "id": "e5e18251",
   "metadata": {},
   "outputs": [],
   "source": []
  },
  {
   "cell_type": "code",
   "execution_count": null,
   "id": "fbadf3e0",
   "metadata": {},
   "outputs": [],
   "source": []
  },
  {
   "cell_type": "code",
   "execution_count": null,
   "id": "d7fb1cc3",
   "metadata": {},
   "outputs": [],
   "source": []
  },
  {
   "cell_type": "code",
   "execution_count": null,
   "id": "9553279f",
   "metadata": {},
   "outputs": [],
   "source": []
  }
 ],
 "metadata": {
  "kernelspec": {
   "display_name": "Python 3 (ipykernel)",
   "language": "python",
   "name": "python3"
  },
  "language_info": {
   "codemirror_mode": {
    "name": "ipython",
    "version": 3
   },
   "file_extension": ".py",
   "mimetype": "text/x-python",
   "name": "python",
   "nbconvert_exporter": "python",
   "pygments_lexer": "ipython3",
   "version": "3.9.13"
  }
 },
 "nbformat": 4,
 "nbformat_minor": 5
}
