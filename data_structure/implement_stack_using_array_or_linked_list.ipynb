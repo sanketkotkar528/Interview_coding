{
 "cells": [
  {
   "cell_type": "markdown",
   "id": "d8520d9a",
   "metadata": {},
   "source": [
    "# Data Structure\n",
    "\n",
    "### Question : Implement a stack using an array or linked list.\n",
    "\n"
   ]
  },
  {
   "cell_type": "code",
   "execution_count": null,
   "id": "61e02b86",
   "metadata": {},
   "outputs": [],
   "source": []
  },
  {
   "cell_type": "markdown",
   "id": "79193c16",
   "metadata": {},
   "source": [
    "#### Stack using Array"
   ]
  },
  {
   "cell_type": "code",
   "execution_count": 1,
   "id": "4d982ecd",
   "metadata": {},
   "outputs": [
    {
     "name": "stdout",
     "output_type": "stream",
     "text": [
      "Stack: [1, 2, 3]\n",
      "Pop: 3\n",
      "Stack after pop: [1, 2]\n",
      "Peek: 2\n",
      "Stack size: 2\n"
     ]
    }
   ],
   "source": [
    "class StackArray:\n",
    "    def __init__(self):\n",
    "        self.stack = []\n",
    "\n",
    "    def push(self, item):\n",
    "        self.stack.append(item)\n",
    "\n",
    "    def pop(self):\n",
    "        if not self.is_empty():\n",
    "            return self.stack.pop()\n",
    "        else:\n",
    "            return \"Stack is empty\"\n",
    "\n",
    "    def peek(self):\n",
    "        if not self.is_empty():\n",
    "            return self.stack[-1]\n",
    "        else:\n",
    "            return \"Stack is empty\"\n",
    "\n",
    "    def is_empty(self):\n",
    "        return len(self.stack) == 0\n",
    "\n",
    "    def size(self):\n",
    "        return len(self.stack)\n",
    "\n",
    "# Test the StackArray\n",
    "stack = StackArray()\n",
    "stack.push(1)\n",
    "stack.push(2)\n",
    "stack.push(3)\n",
    "print(\"Stack:\", stack.stack)\n",
    "print(\"Pop:\", stack.pop())\n",
    "print(\"Stack after pop:\", stack.stack)\n",
    "print(\"Peek:\", stack.peek())\n",
    "print(\"Stack size:\", stack.size())\n"
   ]
  },
  {
   "cell_type": "markdown",
   "id": "1a14cfdc",
   "metadata": {},
   "source": [
    "#### Stack using Linked List\n"
   ]
  },
  {
   "cell_type": "code",
   "execution_count": 3,
   "id": "c8ec6ded",
   "metadata": {},
   "outputs": [
    {
     "name": "stdout",
     "output_type": "stream",
     "text": [
      "Stack:\n",
      "3 2 1 \n",
      "Pop: 3\n",
      "Stack after pop:\n",
      "2 1 \n",
      "Peek: 2\n",
      "Stack size: 2\n"
     ]
    }
   ],
   "source": [
    "class Node:\n",
    "    def __init__(self, data):\n",
    "        self.data = data\n",
    "        self.next = None\n",
    "\n",
    "class StackLinkedList:\n",
    "    def __init__(self):\n",
    "        self.head = None\n",
    "\n",
    "    def push(self, item):\n",
    "        new_node = Node(item)\n",
    "        new_node.next = self.head\n",
    "        self.head = new_node\n",
    "\n",
    "    def pop(self):\n",
    "        if self.is_empty():\n",
    "            return \"Stack is empty\"\n",
    "        else:\n",
    "            popped_item = self.head.data\n",
    "            self.head = self.head.next\n",
    "            return popped_item\n",
    "\n",
    "    def peek(self):\n",
    "        if self.is_empty():\n",
    "            return \"Stack is empty\"\n",
    "        else:\n",
    "            return self.head.data\n",
    "\n",
    "    def is_empty(self):\n",
    "        return self.head is None\n",
    "\n",
    "    def size(self):\n",
    "        current = self.head\n",
    "        count = 0\n",
    "        while current:\n",
    "            count += 1\n",
    "            current = current.next\n",
    "        return count\n",
    "\n",
    "# Test the StackLinkedList\n",
    "stack_ll = StackLinkedList()\n",
    "stack_ll.push(1)\n",
    "stack_ll.push(2)\n",
    "stack_ll.push(3)\n",
    "print(\"Stack:\")\n",
    "current = stack_ll.head\n",
    "while current:\n",
    "    print(current.data, end=\" \")\n",
    "    current = current.next\n",
    "print()\n",
    "print(\"Pop:\", stack_ll.pop())\n",
    "print(\"Stack after pop:\")\n",
    "current = stack_ll.head\n",
    "while current:\n",
    "    print(current.data, end=\" \")\n",
    "    current = current.next\n",
    "print()\n",
    "print(\"Peek:\", stack_ll.peek())\n",
    "print(\"Stack size:\", stack_ll.size())\n"
   ]
  }
 ],
 "metadata": {
  "kernelspec": {
   "display_name": "Python 3 (ipykernel)",
   "language": "python",
   "name": "python3"
  },
  "language_info": {
   "codemirror_mode": {
    "name": "ipython",
    "version": 3
   },
   "file_extension": ".py",
   "mimetype": "text/x-python",
   "name": "python",
   "nbconvert_exporter": "python",
   "pygments_lexer": "ipython3",
   "version": "3.9.13"
  }
 },
 "nbformat": 4,
 "nbformat_minor": 5
}
