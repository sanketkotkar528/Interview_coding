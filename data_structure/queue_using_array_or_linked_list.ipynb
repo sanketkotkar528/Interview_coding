{
 "cells": [
  {
   "cell_type": "markdown",
   "id": "55d52925",
   "metadata": {},
   "source": [
    "# Data Structure\n",
    "\n",
    "### Question : Implement a queue using an array or linked list."
   ]
  },
  {
   "cell_type": "markdown",
   "id": "4b264571",
   "metadata": {},
   "source": [
    "#### Using Array"
   ]
  },
  {
   "cell_type": "code",
   "execution_count": 2,
   "id": "904ee370",
   "metadata": {},
   "outputs": [
    {
     "name": "stdout",
     "output_type": "stream",
     "text": [
      "Queue: [1, 2, 3]\n",
      "Dequeue: 1\n",
      "Queue after dequeue: [2, 3]\n",
      "Peek: 2\n",
      "Queue size: 2\n"
     ]
    }
   ],
   "source": [
    "class QueueArray:\n",
    "    def __init__(self):\n",
    "        self.queue = []\n",
    "\n",
    "    def enqueue(self, item):\n",
    "        self.queue.append(item)\n",
    "\n",
    "    def dequeue(self):\n",
    "        if not self.is_empty():\n",
    "            return self.queue.pop(0)\n",
    "        else:\n",
    "            return \"Queue is empty\"\n",
    "\n",
    "    def peek(self):\n",
    "        if not self.is_empty():\n",
    "            return self.queue[0]\n",
    "        else:\n",
    "            return \"Queue is empty\"\n",
    "\n",
    "    def is_empty(self):\n",
    "        return len(self.queue) == 0\n",
    "\n",
    "    def size(self):\n",
    "        return len(self.queue)\n",
    "\n",
    "# Test the QueueArray\n",
    "queue = QueueArray()\n",
    "queue.enqueue(1)\n",
    "queue.enqueue(2)\n",
    "queue.enqueue(3)\n",
    "print(\"Queue:\", queue.queue)\n",
    "print(\"Dequeue:\", queue.dequeue())\n",
    "print(\"Queue after dequeue:\", queue.queue)\n",
    "print(\"Peek:\", queue.peek())\n",
    "print(\"Queue size:\", queue.size())\n"
   ]
  },
  {
   "cell_type": "markdown",
   "id": "adb7de3b",
   "metadata": {},
   "source": [
    "#### Using Linked List"
   ]
  },
  {
   "cell_type": "code",
   "execution_count": 1,
   "id": "9cc8ab4c",
   "metadata": {},
   "outputs": [
    {
     "name": "stdout",
     "output_type": "stream",
     "text": [
      "Queue:\n",
      "1 2 3 \n",
      "Dequeue: 1\n",
      "Queue after dequeue:\n",
      "2 3 \n",
      "Peek: 2\n",
      "Queue size: 2\n"
     ]
    }
   ],
   "source": [
    "class Node:\n",
    "    def __init__(self, data):\n",
    "        self.data = data\n",
    "        self.next = None\n",
    "\n",
    "class QueueLinkedList:\n",
    "    def __init__(self):\n",
    "        self.front = None\n",
    "        self.rear = None\n",
    "\n",
    "    def enqueue(self, item):\n",
    "        new_node = Node(item)\n",
    "        if self.is_empty():\n",
    "            self.front = new_node\n",
    "            self.rear = new_node\n",
    "        else:\n",
    "            self.rear.next = new_node\n",
    "            self.rear = new_node\n",
    "\n",
    "    def dequeue(self):\n",
    "        if self.is_empty():\n",
    "            return \"Queue is empty\"\n",
    "        else:\n",
    "            dequeued_item = self.front.data\n",
    "            self.front = self.front.next\n",
    "            if self.front is None:\n",
    "                self.rear = None\n",
    "            return dequeued_item\n",
    "\n",
    "    def peek(self):\n",
    "        if self.is_empty():\n",
    "            return \"Queue is empty\"\n",
    "        else:\n",
    "            return self.front.data\n",
    "\n",
    "    def is_empty(self):\n",
    "        return self.front is None\n",
    "\n",
    "    def size(self):\n",
    "        current = self.front\n",
    "        count = 0\n",
    "        while current:\n",
    "            count += 1\n",
    "            current = current.next\n",
    "        return count\n",
    "\n",
    "# Test the QueueLinkedList\n",
    "queue_ll = QueueLinkedList()\n",
    "queue_ll.enqueue(1)\n",
    "queue_ll.enqueue(2)\n",
    "queue_ll.enqueue(3)\n",
    "print(\"Queue:\")\n",
    "current = queue_ll.front\n",
    "while current:\n",
    "    print(current.data, end=\" \")\n",
    "    current = current.next\n",
    "print()\n",
    "print(\"Dequeue:\", queue_ll.dequeue())\n",
    "print(\"Queue after dequeue:\")\n",
    "current = queue_ll.front\n",
    "while current:\n",
    "    print(current.data, end=\" \")\n",
    "    current = current.next\n",
    "print()\n",
    "print(\"Peek:\", queue_ll.peek())\n",
    "print(\"Queue size:\", queue_ll.size())\n"
   ]
  },
  {
   "cell_type": "code",
   "execution_count": null,
   "id": "725e4ca3",
   "metadata": {},
   "outputs": [],
   "source": []
  },
  {
   "cell_type": "code",
   "execution_count": null,
   "id": "8e4f3ad0",
   "metadata": {},
   "outputs": [],
   "source": []
  },
  {
   "cell_type": "code",
   "execution_count": null,
   "id": "8026bbe8",
   "metadata": {},
   "outputs": [],
   "source": []
  },
  {
   "cell_type": "code",
   "execution_count": null,
   "id": "aadd7a4e",
   "metadata": {},
   "outputs": [],
   "source": []
  }
 ],
 "metadata": {
  "kernelspec": {
   "display_name": "Python 3 (ipykernel)",
   "language": "python",
   "name": "python3"
  },
  "language_info": {
   "codemirror_mode": {
    "name": "ipython",
    "version": 3
   },
   "file_extension": ".py",
   "mimetype": "text/x-python",
   "name": "python",
   "nbconvert_exporter": "python",
   "pygments_lexer": "ipython3",
   "version": "3.9.13"
  }
 },
 "nbformat": 4,
 "nbformat_minor": 5
}
