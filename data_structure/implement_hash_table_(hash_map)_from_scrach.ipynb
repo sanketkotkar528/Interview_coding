{
 "cells": [
  {
   "cell_type": "markdown",
   "id": "9602ff20",
   "metadata": {},
   "source": [
    "# Data Structure\n",
    "\n",
    "### Question : Implement a hash table (hash map) from scratch."
   ]
  },
  {
   "cell_type": "markdown",
   "id": "06b5cc09",
   "metadata": {},
   "source": [
    "In this implementation:\n",
    "\n",
    "    - The HashTable class represents a hash table with a specified size.\n",
    "    - The _hash_function method calculates the hash value for a given key.\n",
    "    - The insert method inserts a key-value pair into the hash table.\n",
    "    - The search method searches for a key in the hash table and returns its corresponding value.\n",
    "    - The delete method deletes a key-value pair from the hash table.\n",
    "    - We test the hash table by inserting some key-value pairs, searching for values, updating values, and deleting key-value pairs.\n",
    "\n",
    "This is a basic implementation of a hash table. Depending on your requirements, you may want to add additional features such as handling collisions using techniques like chaining or open addressing."
   ]
  },
  {
   "cell_type": "code",
   "execution_count": 1,
   "id": "0eec3090",
   "metadata": {},
   "outputs": [
    {
     "name": "stdout",
     "output_type": "stream",
     "text": [
      "Search for 'apple': 5\n",
      "Search for 'banana': 10\n",
      "Search for 'cherry': 15\n",
      "Updated value for 'apple': 7\n",
      "Search for 'banana' after deletion: None\n"
     ]
    }
   ],
   "source": [
    "class HashTable:\n",
    "    def __init__(self, size):\n",
    "        self.size = size\n",
    "        self.table = [[] for _ in range(size)]\n",
    "\n",
    "    def _hash_function(self, key):\n",
    "        return hash(key) % self.size\n",
    "\n",
    "    def insert(self, key, value):\n",
    "        index = self._hash_function(key)\n",
    "        for pair in self.table[index]:\n",
    "            if pair[0] == key:\n",
    "                pair[1] = value\n",
    "                return\n",
    "        self.table[index].append([key, value])\n",
    "\n",
    "    def search(self, key):\n",
    "        index = self._hash_function(key)\n",
    "        for pair in self.table[index]:\n",
    "            if pair[0] == key:\n",
    "                return pair[1]\n",
    "        return None\n",
    "\n",
    "    def delete(self, key):\n",
    "        index = self._hash_function(key)\n",
    "        for i, pair in enumerate(self.table[index]):\n",
    "            if pair[0] == key:\n",
    "                del self.table[index][i]\n",
    "                return\n",
    "\n",
    "# Test the hash table\n",
    "hash_table = HashTable(10)\n",
    "hash_table.insert(\"apple\", 5)\n",
    "hash_table.insert(\"banana\", 10)\n",
    "hash_table.insert(\"cherry\", 15)\n",
    "\n",
    "print(\"Search for 'apple':\", hash_table.search(\"apple\"))\n",
    "print(\"Search for 'banana':\", hash_table.search(\"banana\"))\n",
    "print(\"Search for 'cherry':\", hash_table.search(\"cherry\"))\n",
    "\n",
    "hash_table.insert(\"apple\", 7)  # Update the value for key 'apple'\n",
    "print(\"Updated value for 'apple':\", hash_table.search(\"apple\"))\n",
    "\n",
    "hash_table.delete(\"banana\")\n",
    "print(\"Search for 'banana' after deletion:\", hash_table.search(\"banana\"))\n"
   ]
  },
  {
   "cell_type": "code",
   "execution_count": null,
   "id": "a05d6649",
   "metadata": {},
   "outputs": [],
   "source": []
  }
 ],
 "metadata": {
  "kernelspec": {
   "display_name": "Python 3 (ipykernel)",
   "language": "python",
   "name": "python3"
  },
  "language_info": {
   "codemirror_mode": {
    "name": "ipython",
    "version": 3
   },
   "file_extension": ".py",
   "mimetype": "text/x-python",
   "name": "python",
   "nbconvert_exporter": "python",
   "pygments_lexer": "ipython3",
   "version": "3.9.13"
  }
 },
 "nbformat": 4,
 "nbformat_minor": 5
}
