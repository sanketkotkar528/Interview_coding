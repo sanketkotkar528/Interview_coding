{
 "cells": [
  {
   "cell_type": "markdown",
   "id": "75272bd8",
   "metadata": {},
   "source": [
    "# Data Structure\n",
    "\n",
    "\n",
    "### Question : Implement a trie (prefix tree) for efficient string searching."
   ]
  },
  {
   "cell_type": "markdown",
   "id": "d4d3f00a",
   "metadata": {},
   "source": [
    "In this implementation:\n",
    "\n",
    "    - The TrieNode class represents a node in the Trie. Each node contains a dictionary to store its children (characters) and a boolean flag to indicate whether it marks the end of a word.\n",
    "    - The Trie class represents the Trie itself, with a root node to start the tree.\n",
    "    - The insert method inserts a word into the Trie by traversing the characters of the word and creating new nodes if necessary.\n",
    "    - The search method searches for a word in the Trie by traversing the characters of the word and checking if the path exists in the Trie.\n",
    "    - The starts_with method checks if there is any word in the Trie that starts with a given prefix by traversing the characters of the prefix and checking if the path exists in the Trie.\n",
    "\n",
    "\n",
    "You can test the Trie by inserting words, searching for words, and checking if words start with certain prefixes."
   ]
  },
  {
   "cell_type": "code",
   "execution_count": 1,
   "id": "67499a41",
   "metadata": {},
   "outputs": [
    {
     "name": "stdout",
     "output_type": "stream",
     "text": [
      "Search for 'apple': True\n",
      "Search for 'app': True\n",
      "Search for 'banana': True\n",
      "Search for 'orange': False\n",
      "Starts with 'app': True\n",
      "Starts with 'ban': True\n",
      "Starts with 'orange': False\n"
     ]
    }
   ],
   "source": [
    "class TrieNode:\n",
    "    def __init__(self):\n",
    "        self.children = {}\n",
    "        self.is_end_of_word = False\n",
    "\n",
    "class Trie:\n",
    "    def __init__(self):\n",
    "        self.root = TrieNode()\n",
    "\n",
    "    def insert(self, word):\n",
    "        node = self.root\n",
    "        for char in word:\n",
    "            if char not in node.children:\n",
    "                node.children[char] = TrieNode()\n",
    "            node = node.children[char]\n",
    "        node.is_end_of_word = True\n",
    "\n",
    "    def search(self, word):\n",
    "        node = self.root\n",
    "        for char in word:\n",
    "            if char not in node.children:\n",
    "                return False\n",
    "            node = node.children[char]\n",
    "        return node.is_end_of_word\n",
    "\n",
    "    def starts_with(self, prefix):\n",
    "        node = self.root\n",
    "        for char in prefix:\n",
    "            if char not in node.children:\n",
    "                return False\n",
    "            node = node.children[char]\n",
    "        return True\n",
    "\n",
    "# Test the Trie\n",
    "trie = Trie()\n",
    "trie.insert(\"apple\")\n",
    "trie.insert(\"app\")\n",
    "trie.insert(\"banana\")\n",
    "\n",
    "print(\"Search for 'apple':\", trie.search(\"apple\"))\n",
    "print(\"Search for 'app':\", trie.search(\"app\"))\n",
    "print(\"Search for 'banana':\", trie.search(\"banana\"))\n",
    "print(\"Search for 'orange':\", trie.search(\"orange\"))\n",
    "\n",
    "print(\"Starts with 'app':\", trie.starts_with(\"app\"))\n",
    "print(\"Starts with 'ban':\", trie.starts_with(\"ban\"))\n",
    "print(\"Starts with 'orange':\", trie.starts_with(\"orange\"))\n"
   ]
  }
 ],
 "metadata": {
  "kernelspec": {
   "display_name": "Python 3 (ipykernel)",
   "language": "python",
   "name": "python3"
  },
  "language_info": {
   "codemirror_mode": {
    "name": "ipython",
    "version": 3
   },
   "file_extension": ".py",
   "mimetype": "text/x-python",
   "name": "python",
   "nbconvert_exporter": "python",
   "pygments_lexer": "ipython3",
   "version": "3.9.13"
  }
 },
 "nbformat": 4,
 "nbformat_minor": 5
}
