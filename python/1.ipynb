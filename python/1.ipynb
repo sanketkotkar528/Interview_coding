{
 "cells": [
  {
   "cell_type": "markdown",
   "metadata": {},
   "source": [
    "# Python Basics"
   ]
  },
  {
   "cell_type": "markdown",
   "metadata": {
    "vscode": {
     "languageId": "plaintext"
    }
   },
   "source": [
    "- Python is case sensetive\n",
    "- python uses the identation to define the code blocks\n",
    "\n"
   ]
  },
  {
   "cell_type": "code",
   "execution_count": 10,
   "metadata": {},
   "outputs": [
    {
     "name": "stdout",
     "output_type": "stream",
     "text": [
      "6\n"
     ]
    }
   ],
   "source": [
    "## Line Continuation\n",
    "total=3+\\\n",
    "    3\n",
    "print(total)"
   ]
  },
  {
   "cell_type": "markdown",
   "metadata": {},
   "source": [
    "## Semantics in Python\n",
    "- Variable assignment"
   ]
  },
  {
   "cell_type": "code",
   "execution_count": null,
   "metadata": {},
   "outputs": [],
   "source": [
    "age=32 #age is int\n",
    "name='sanket' #name is str"
   ]
  },
  {
   "cell_type": "markdown",
   "metadata": {},
   "source": [
    "## Variables\n",
    "- variables are fundamental elements in programing used to store the data that can be referenced and manipulated in a program. In python, variables are created when you assign a value to them, and they do not need a explicit declaration to reserve the memory space.\n",
    "- The declaration happens automatically when you assign a value to a variable.\n",
    "\n",
    "    - Varibales names should be descriptive\n",
    "    - They must start with letter or an \"_\" and contains letter, number and underscores\n",
    "    - Variables names case sensetive. "
   ]
  },
  {
   "cell_type": "markdown",
   "metadata": {},
   "source": [
    "## Data Types\n",
    "1. Definition\n",
    "    - Data Types are a classification of data which tell the compiler or interpreter how the programmer intends to use the data.\n",
    "    - They determine the type of operations that can be performed on the data, the values that the data can take, and the amount of memory needed to store the data.\n",
    "\n",
    "2. Importance of Data Types\n",
    "    - Data Types ensure that data is stores in efficient way\n",
    "    - They help in performing the correct operations on data\n",
    "    - Proper use of data types can prevent errors and bugs in programs\n",
    "\n",
    "3. Basic Data Types\n",
    "    1. Integers\n",
    "    2. Floating-point numbers\n",
    "    3. String\n",
    "    4. Booleans\n",
    "\n",
    "4. Advanced Data Types\n",
    "    1. List\n",
    "    2. Tuples\n",
    "    3. Sets\n",
    "    4. Dictionaries\n",
    "\n"
   ]
  },
  {
   "cell_type": "markdown",
   "metadata": {},
   "source": [
    "## Operators\n",
    "\n",
    "1. Arithmatic Operators\n",
    "    - Addition ( + )\n",
    "    - Subtraction ( - )\n",
    "    - Multiplication ( * )\n",
    "    - Division   ( / )\n",
    "    - Floor Division ( // ) \n",
    "    - Modulous ( % ) \n",
    "        - Note it is nothing but we can get the remainder using this operator\n",
    "    - Exponentiation ( ** )\n",
    "\n",
    "\n",
    "2. Comparison Operator\n",
    "    - Equal to ( == )\n",
    "    - Not equal to ( != )\n",
    "    - Greater than (>=)\n",
    "    - Less than\n",
    "    - Greater than or equal to\n",
    "    - Less than or equal to\n",
    "\n",
    "3. Logical Operators\n",
    "    - AND\n",
    "    - OR\n",
    "    - NOT\n",
    "\n"
   ]
  },
  {
   "cell_type": "markdown",
   "metadata": {},
   "source": [
    "## List\n",
    "\n",
    "**Function list offered in Python**\n",
    "- append : adds element into list\n",
    "- extend : It helps to extend the element of the list by adding new list with elements of same data type\n",
    "- insert : It helps to insert the element at particular index\n",
    "- remove : It helps to remove the element of the list\n",
    "- pop : It removes and return the element at the particular index mentioned.\n",
    "\n",
    "        If index is not mentioned it removes last element of the list\n",
    "\n",
    "- clear : It clears all the elements from the list\n",
    "- del list[index] : It deletes the leement present at index position\n",
    "- list.index('element') : It returns the index/position of element within the list\n",
    "- list.count('element') : It countes the occurence of the element within the list\n",
    "- list.sort : It sorts the list element \n",
    "\n",
    "    It has specific parameter known as,\n",
    "\n",
    "        key: A function to be called on each list element prior to making comparisons (e.g., key=str.lower for case-insensitive sorting).\n",
    "\n",
    "        reverse=True: Sorts in descending order.\n",
    "\n",
    "- reverse : It reverses the list\n",
    "\n",
    "\n",
    "- List comprehention\n",
    "\n",
    "        [expression for item in iterable if condition]\n",
    "\n",
    "        even_numbers = [i for i in range(1, 11) if i % 2 == 0]\n",
    "\n",
    "- Nested List Comprehentions:\n",
    "\n",
    "        # Using a nested list comprehension\n",
    "        matrix = [[row * col for col in range(3)] for row in range(3)]\n",
    "\n",
    "        print(f\"Generated matrix: {matrix}\")\n",
    "        Output: Generated matrix: [[0, 0, 0], [0, 1, 2], [0, 2, 4]]\n",
    "\n",
    "- if-else block for List Comprehention:\n",
    "        numbers = [1, 2, 3, 4, 5]\n",
    "\n",
    "        # Using an if-else within the expression part\n",
    "        status_list = [\"Even\" if num % 2 == 0 else \"Odd\" for num in numbers]\n",
    "\n",
    "        print(f\"Original numbers: {numbers}\")\n",
    "        print(f\"Number status: {status_list}\")\n",
    "        # Output: Number status: ['Odd', 'Even', 'Odd', 'Even', 'Odd']\n",
    "\n",
    "- \n",
    "        "
   ]
  },
  {
   "cell_type": "code",
   "execution_count": null,
   "metadata": {},
   "outputs": [],
   "source": []
  },
  {
   "cell_type": "code",
   "execution_count": null,
   "metadata": {},
   "outputs": [],
   "source": []
  },
  {
   "cell_type": "code",
   "execution_count": null,
   "metadata": {},
   "outputs": [],
   "source": []
  },
  {
   "cell_type": "code",
   "execution_count": null,
   "metadata": {},
   "outputs": [],
   "source": []
  },
  {
   "cell_type": "code",
   "execution_count": null,
   "metadata": {},
   "outputs": [],
   "source": []
  }
 ],
 "metadata": {
  "kernelspec": {
   "display_name": "base",
   "language": "python",
   "name": "python3"
  },
  "language_info": {
   "codemirror_mode": {
    "name": "ipython",
    "version": 3
   },
   "file_extension": ".py",
   "mimetype": "text/x-python",
   "name": "python",
   "nbconvert_exporter": "python",
   "pygments_lexer": "ipython3",
   "version": "3.9.13"
  }
 },
 "nbformat": 4,
 "nbformat_minor": 2
}
