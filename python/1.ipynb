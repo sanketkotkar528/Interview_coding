{
 "cells": [
  {
   "cell_type": "markdown",
   "metadata": {},
   "source": [
    "# Python Basics"
   ]
  },
  {
   "cell_type": "markdown",
   "metadata": {
    "vscode": {
     "languageId": "plaintext"
    }
   },
   "source": [
    "- Python is case sensetive\n",
    "- python uses the identation to define the code blocks\n",
    "\n"
   ]
  },
  {
   "cell_type": "code",
   "execution_count": 10,
   "metadata": {},
   "outputs": [
    {
     "name": "stdout",
     "output_type": "stream",
     "text": [
      "6\n"
     ]
    }
   ],
   "source": [
    "## Line Continuation\n",
    "total=3+\\\n",
    "    3\n",
    "print(total)"
   ]
  },
  {
   "cell_type": "markdown",
   "metadata": {},
   "source": [
    "## Semantics in Python\n",
    "- Variable assignment"
   ]
  },
  {
   "cell_type": "code",
   "execution_count": 4,
   "metadata": {},
   "outputs": [],
   "source": [
    "age=32 #age is int\n",
    "name='sanket' #name is str"
   ]
  },
  {
   "cell_type": "markdown",
   "metadata": {},
   "source": [
    "---"
   ]
  },
  {
   "cell_type": "markdown",
   "metadata": {},
   "source": [
    "## Variables\n",
    "- variables are fundamental elements in programing used to store the data that can be referenced and manipulated in a program. In python, variables are created when you assign a value to them, and they do not need a explicit declaration to reserve the memory space.\n",
    "- The declaration happens automatically when you assign a value to a variable.\n",
    "\n",
    "    - Varibales names should be descriptive\n",
    "    - They must start with letter or an \"_\" and contains letter, number and underscores\n",
    "    - Variables names case sensetive. "
   ]
  },
  {
   "cell_type": "markdown",
   "metadata": {},
   "source": [
    "---"
   ]
  },
  {
   "cell_type": "markdown",
   "metadata": {},
   "source": [
    "## Data Types\n",
    "1. Definition\n",
    "    - Data Types are a classification of data which tell the compiler or interpreter how the programmer intends to use the data.\n",
    "    - They determine the type of operations that can be performed on the data, the values that the data can take, and the amount of memory needed to store the data.\n",
    "\n",
    "2. Importance of Data Types\n",
    "    - Data Types ensure that data is stores in efficient way\n",
    "    - They help in performing the correct operations on data\n",
    "    - Proper use of data types can prevent errors and bugs in programs\n",
    "\n",
    "3. Basic Data Types\n",
    "    1. Integers\n",
    "    2. Floating-point numbers\n",
    "    3. String\n",
    "    4. Booleans\n",
    "\n",
    "4. Advanced Data Types\n",
    "    1. List\n",
    "    2. Tuples\n",
    "    3. Sets\n",
    "    4. Dictionaries\n",
    "\n"
   ]
  },
  {
   "cell_type": "markdown",
   "metadata": {},
   "source": [
    "---"
   ]
  },
  {
   "cell_type": "markdown",
   "metadata": {},
   "source": [
    "## Operators\n",
    "\n",
    "1. Arithmatic Operators\n",
    "    - Addition ( + )\n",
    "    - Subtraction ( - )\n",
    "    - Multiplication ( * )\n",
    "    - Division   ( / )\n",
    "    - Floor Division ( // ) \n",
    "    - Modulous ( % ) \n",
    "        - Note it is nothing but we can get the remainder using this operator\n",
    "    - Exponentiation ( ** )\n",
    "\n",
    "\n",
    "2. Comparison Operator\n",
    "    - Equal to ( == )\n",
    "    - Not equal to ( != )\n",
    "    - Greater than (>=)\n",
    "    - Less than\n",
    "    - Greater than or equal to\n",
    "    - Less than or equal to\n",
    "\n",
    "3. Logical Operators\n",
    "    - AND\n",
    "    - OR\n",
    "    - NOT\n",
    "\n"
   ]
  },
  {
   "cell_type": "markdown",
   "metadata": {},
   "source": [
    "---"
   ]
  },
  {
   "cell_type": "markdown",
   "metadata": {},
   "source": [
    "## List\n",
    "\n",
    "**Function list offered in Python**\n",
    "- append : adds element into list\n",
    "- extend : It helps to extend the element of the list by adding new list with elements of same data type\n",
    "- insert : It helps to insert the element at particular index\n",
    "- remove : It helps to remove the element of the list\n",
    "- pop : It removes and return the element at the particular index mentioned.\n",
    "\n",
    "        If index is not mentioned it removes last element of the list\n",
    "\n",
    "- clear : It clears all the elements from the list\n",
    "- del list[index] : It deletes the leement present at index position\n",
    "- list.index('element') : It returns the index/position of element within the list\n",
    "- list.count('element') : It countes the occurence of the element within the list\n",
    "- list.sort : It sorts the list element \n",
    "\n",
    "    It has specific parameter known as,\n",
    "\n",
    "        key: A function to be called on each list element prior to making comparisons (e.g., key=str.lower for case-insensitive sorting).\n",
    "\n",
    "        reverse=True: Sorts in descending order.\n",
    "\n",
    "- reverse : It reverses the list\n",
    "\n",
    "\n",
    "- List comprehention\n",
    "\n",
    "        [expression for item in iterable if condition]\n",
    "\n",
    "        even_numbers = [i for i in range(1, 11) if i % 2 == 0]\n",
    "\n",
    "- Nested List Comprehentions:\n",
    "\n",
    "        # Using a nested list comprehension\n",
    "        matrix = [[row * col for col in range(3)] for row in range(3)]\n",
    "\n",
    "        print(f\"Generated matrix: {matrix}\")\n",
    "        Output: Generated matrix: [[0, 0, 0], [0, 1, 2], [0, 2, 4]]\n",
    "\n",
    "- if-else block for List Comprehention:\n",
    "        numbers = [1, 2, 3, 4, 5]\n",
    "\n",
    "        # Using an if-else within the expression part\n",
    "        status_list = [\"Even\" if num % 2 == 0 else \"Odd\" for num in numbers]\n",
    "\n",
    "        print(f\"Original numbers: {numbers}\")\n",
    "        print(f\"Number status: {status_list}\")\n",
    "        # Output: Number status: ['Odd', 'Even', 'Odd', 'Even', 'Odd']\n",
    "\n",
    "        "
   ]
  },
  {
   "cell_type": "markdown",
   "metadata": {},
   "source": [
    "---"
   ]
  },
  {
   "cell_type": "markdown",
   "metadata": {},
   "source": [
    "## Set\n",
    "\n",
    "**Python's set is an unordered collection of unique elements.**\n",
    "- It's mutable, meaning you can add and remove items after it's created\n",
    "- Sets are particularly useful for mathematical set operations like union, intersection, difference, and for efficiently checking membership or removing duplicates.\n",
    "\n",
    "\n",
    "1. Adding elements:\n",
    "    -   set.add(element) :  Adds a single element to the set. If the element is already present, it does nothing.\n",
    "\n",
    "        ```\n",
    "        my_set = {1, 2, 3}\n",
    "        my_set.add(4)\n",
    "        print(my_set)  # Output: {1, 2, 3, 4} (order might vary)\n",
    "        my_set.add(2)  # Adding an existing element\n",
    "        print(my_set)  # Output: {1, 2, 3, 4}\n",
    "\n",
    "        ```\n",
    "\n",
    "    -   set.update(iterable): Adds all elements from an iterable (like a list, tuple, string, or another set) to the set.\n",
    "        ```\n",
    "        my_set = {1, 2}\n",
    "        my_set.update([3, 4, 1])\n",
    "        print(my_set)  # Output: {1, 2, 3, 4}\n",
    "        ```\n",
    "\n",
    "2. Removing Elements:\n",
    "\n",
    "    - set.remove(element): Removes the specified element from the set. Raises a KeyError if the element is not found\n",
    "        ```\n",
    "        my_set = {1, 2, 3}\n",
    "        my_set.remove(2)\n",
    "        print(my_set)  # Output: {1, 3}\n",
    "        try:\n",
    "            my_set.remove(5)\n",
    "        except KeyError as e:\n",
    "            print(f\"Error: {e}\") # Output: Error: 5\n",
    "\n",
    "        ```\n",
    "    \n",
    "    - set.discard(element): Removes the specified element from the set if it is present. Does not raise an error if the element is not found.\n",
    "        ```\n",
    "        my_set = {1, 2, 3}\n",
    "        my_set.discard(2)\n",
    "        print(my_set)  # Output: {1, 3}\n",
    "        my_set.discard(5) # Does nothing if 5 is not present\n",
    "        print(my_set)  # Output: {1, 3}\n",
    "        ```\n",
    "\n",
    "    - set.pop(): Removes and returns an arbitrary element from the set. Since sets are unordered, you cannot predict which element will be removed. Raises a KeyError if the set is empty.\n",
    "        ```\n",
    "        my_set = {1, 2, 3}\n",
    "        popped_element = my_set.pop()\n",
    "        print(f\"Popped: {popped_element}, Remaining: {my_set}\")\n",
    "        # Output will vary, e.g., Popped: 1, Remaining: {2, 3}\n",
    "        ```\n",
    "\n",
    "    - set.clear(): Removes all elements from the set, making it empty.\n",
    "        ```\n",
    "        my_set = {1, 2, 3}\n",
    "        my_set.clear()\n",
    "        print(my_set)  # Output: set()\n",
    "        ```\n",
    "\n",
    "3. Set Operations (returning a new set):\n",
    "\n",
    "    - set.union(other_set, ...) or set | other_set: Returns a new set containing all unique elements from both sets.\n",
    "        ```\n",
    "        set1 = {1, 2, 3}\n",
    "        set2 = {3, 4, 5}\n",
    "        union_set = set1.union(set2)\n",
    "        print(union_set)     # Output: {1, 2, 3, 4, 5}\n",
    "        print(set1 | set2)   # Output: {1, 2, 3, 4, 5}\n",
    "        ```\n",
    "\n",
    "    - set.intersection(other_set, ...) or set & other_set: Returns a new set containing only the elements common to both sets.\n",
    "        ```\n",
    "        set1 = {1, 2, 3}\n",
    "        set2 = {3, 4, 5}\n",
    "        intersection_set = set1.intersection(set2)\n",
    "        print(intersection_set)     # Output: {3}\n",
    "        print(set1 & set2)          # Output: {3}\n",
    "        ```\n",
    "    \n",
    "    - set.difference(other_set, ...) or set - other_set: Returns a new set containing elements that are in the first set but not in the other_set(s).\n",
    "        ```\n",
    "        set1 = {1, 2, 3, 4}\n",
    "        set2 = {3, 4, 5}\n",
    "        difference_set = set1.difference(set2)\n",
    "        print(difference_set)     # Output: {1, 2}\n",
    "        print(set1 - set2)        # Output: {1, 2}\n",
    "        ```\n",
    "\n",
    "    - set.symmetric_difference(other_set) or set ^ other_set: Returns a new set containing elements that are in either set, but not in both.\n",
    "        ```\n",
    "        set1 = {1, 2, 3}\n",
    "        set2 = {3, 4, 5}\n",
    "        sym_diff_set = set1.symmetric_difference(set2)\n",
    "        print(sym_diff_set)     # Output: {1, 2, 4, 5}\n",
    "        print(set1 ^ set2)      # Output: {1, 2, 4, 5}\n",
    "        ```\n",
    "\n",
    "4. Set Operations (modifying in-place):\n",
    "\n",
    "    - set.intersection_update(iterable, ...) or set &= iterable: Removes elements from the set that are not present in the iterable(s).\n",
    "        ```\n",
    "        set1 = {1, 2, 3, 4}\n",
    "        set2 = {3, 4, 5}\n",
    "        set1.intersection_update(set2)\n",
    "        print(set1)  # Output: {3, 4}\n",
    "        ```\n",
    "    \n",
    "    - set.difference_update(iterable, ...) or set -= iterable: Removes all elements from the set that are found in the iterable(s).\n",
    "        ```\n",
    "        set1 = {1, 2, 3, 4}\n",
    "        set2 = {3, 4, 5}\n",
    "        set1.difference_update(set2)\n",
    "        print(set1)  # Output: {1, 2}\n",
    "        ```\n",
    "\n",
    "    - set.symmetric_difference_update(iterable) or set ^= iterable: Updates the set with the symmetric difference of itself and another iterable.\n",
    "        ```\n",
    "        set1 = {1, 2, 3}\n",
    "        set2 = {3, 4, 5}\n",
    "        set1.symmetric_difference_update(set2)\n",
    "        print(set1)  # Output: {1, 2, 4, 5}\n",
    "        ```\n",
    "\n",
    "5. Comparison and Subset/Superset Checks (returning boolean):\n",
    "\n",
    "    - set.issubset(other_set) or set <= other_set: Returns True if every element in the set is also in the other_set.\n",
    "        ```\n",
    "        set1 = {1, 2}\n",
    "        set2 = {1, 2, 3}\n",
    "        print(set1.issubset(set2))  # Output: True\n",
    "        print(set1 <= set2)         # Output: True\n",
    "        ```\n",
    "\n",
    "    - set.issuperset(other_set) or set >= other_set: Returns True if every element in the other_set is also in the set.\n",
    "        ```\n",
    "        set1 = {1, 2, 3}\n",
    "        set2 = {1, 2}\n",
    "        print(set1.issuperset(set2))  # Output: True\n",
    "        print(set1 >= set2)           # Output: True\n",
    "        ```\n",
    "\n",
    "    - set.isdisjoint(other_set): Returns True if the set has no elements in common with the other_set (i.e., their intersection is empty).\n",
    "        ```\n",
    "        set1 = {1, 2}\n",
    "        set2 = {3, 4}\n",
    "        set3 = {2, 5}\n",
    "        print(set1.isdisjoint(set2))  # Output: True\n",
    "        print(set1.isdisjoint(set3))  # Output: False\n",
    "        ```\n",
    "\n",
    "    - set < other_set: Returns True if the set is a proper subset of the other_set (i.e., set.issubset(other_set) and set != other_set).\n",
    "\n",
    "    - set > other_set: Returns True if the set is a proper superset of the other_set (i.e., set.issuperset(other_set) and set != other_set).\n",
    "\n",
    "\n",
    "\n",
    "\n",
    "\n"
   ]
  },
  {
   "cell_type": "markdown",
   "metadata": {},
   "source": [
    "---"
   ]
  },
  {
   "cell_type": "markdown",
   "metadata": {},
   "source": [
    "## Dictionary\n",
    "\n",
    "**Dictionaries in Python are unordered, mutable collections of key-value pairs. They are highly optimized for retrieving values when the key is known. Like lists and sets, dictionaries offer a variety of methods (functions called on the dictionary object) and can be used with several built-in functions.**\n",
    "\n",
    "\n",
    "1. Accessing/Retrieving Elements:\n",
    "\n",
    "    -  dict.get(key, default=None): Returns the value for the specified key. If the key is not found, it returns None by default, or the default value if provided. This is safer than direct key access (my_dict[key]) because it doesn't raise a KeyError.\n",
    "        ```\n",
    "        my_dict = {'name': 'Alice', 'age': 30}\n",
    "        print(my_dict.get('name'))     # Output: Alice\n",
    "        print(my_dict.get('city'))     # Output: None\n",
    "        print(my_dict.get('city', 'Unknown')) # Output: Unknown\n",
    "        ```\n",
    "\n",
    "    - dict.keys(): Returns a new view object that displays a list of all the keys in the dictionary. This view reflects changes to the dictionary\n",
    "        ```\n",
    "        my_dict = {'name': 'Alice', 'age': 30}\n",
    "        keys = my_dict.keys()\n",
    "        print(keys)  # Output: dict_keys(['name', 'age'])\n",
    "        ```\n",
    "\n",
    "    - dict.values(): Returns a new view object that displays a list of all the values in the dictionary. This view reflects changes to the dictionary.\n",
    "        ```\n",
    "        my_dict = {'name': 'Alice', 'age': 30}\n",
    "values = my_dict.values()\n",
    "print(values) # Output: dict_values(['Alice', 30])\n",
    "\n"
   ]
  },
  {
   "cell_type": "markdown",
   "metadata": {},
   "source": [
    "##"
   ]
  },
  {
   "cell_type": "code",
   "execution_count": null,
   "metadata": {},
   "outputs": [],
   "source": []
  },
  {
   "cell_type": "code",
   "execution_count": null,
   "metadata": {},
   "outputs": [],
   "source": []
  },
  {
   "cell_type": "code",
   "execution_count": null,
   "metadata": {},
   "outputs": [],
   "source": []
  },
  {
   "cell_type": "code",
   "execution_count": null,
   "metadata": {},
   "outputs": [],
   "source": []
  },
  {
   "cell_type": "code",
   "execution_count": null,
   "metadata": {},
   "outputs": [],
   "source": []
  }
 ],
 "metadata": {
  "kernelspec": {
   "display_name": "base",
   "language": "python",
   "name": "python3"
  },
  "language_info": {
   "codemirror_mode": {
    "name": "ipython",
    "version": 3
   },
   "file_extension": ".py",
   "mimetype": "text/x-python",
   "name": "python",
   "nbconvert_exporter": "python",
   "pygments_lexer": "ipython3",
   "version": "3.9.13"
  }
 },
 "nbformat": 4,
 "nbformat_minor": 2
}
