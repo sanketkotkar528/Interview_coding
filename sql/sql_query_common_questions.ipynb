{
 "cells": [
  {
   "cell_type": "markdown",
   "id": "bed2d57a",
   "metadata": {},
   "source": [
    "## SQL Quuery Questions"
   ]
  },
  {
   "cell_type": "markdown",
   "id": "788a18e9",
   "metadata": {},
   "source": [
    "1. Select all columns and rows from a table.\n",
    "\n",
    "-> SELECT *\n",
    "FROM Employees;\n",
    "\n",
    "---\n",
    "2. Select specific columns from a table.\n",
    "\n",
    "-> SELECT FirstName, LastName, Salary\n",
    "FROM Employees;\n",
    "\n",
    "---\n",
    "3. Filter rows using WHERE clause.\n",
    "\n",
    "-> SELECT *\n",
    "FROM Employees\n",
    "WHERE DepartmentID = 101;\n",
    "\n",
    "---\n",
    "4. Filter with multiple conditions (AND, OR).\n",
    "\n",
    "-> SELECT *\n",
    "FROM Employees\n",
    "WHERE Salary > 70000 AND DepartmentID = 102;\n",
    "\n",
    "---\n",
    "\n",
    "5. Order results (ORDER BY).\n",
    "\n",
    "-> SELECT *\n",
    "FROM Employees\n",
    "ORDER BY Salary DESC;\n",
    "\n",
    "---\n",
    "\n",
    "\n"
   ]
  },
  {
   "cell_type": "markdown",
   "id": "6d3abb74",
   "metadata": {},
   "source": [
    "**Que**: Retrieve employees, ordered by DepartmentID (ascending) and then by Salary (descending) within each department.\n",
    "\n",
    "**ANS**:\n",
    "\n",
    "    SELECT *\n",
    "    FROM Employees\n",
    "    ORDER BY DepartmentID ASC, Salary DESC;\n",
    "\n",
    "---"
   ]
  },
  {
   "cell_type": "markdown",
   "id": "25d4813e",
   "metadata": {},
   "source": [
    "**Que**: How many employees are there in total?\n",
    "\n",
    "**ANS**: \n",
    "    \n",
    "    1. SELECT COUNT(EmployeeID) AS TotalEmployees\n",
    "        FROM Employees;\n",
    "\n",
    "    2. SELECT COUNT(*) AS TotalEmployees\n",
    "        FROM Employees;\n",
    "\n",
    "---"
   ]
  },
  {
   "cell_type": "markdown",
   "id": "53ecfb9c",
   "metadata": {},
   "source": [
    "**Que**: Count the number of employees in DepartmentID 101.\n",
    "\n",
    "**Ans**:\n",
    "\n",
    "    SELECT COUNT(EmployeeID) AS EmployeesInDept101\n",
    "    FROM Employees\n",
    "    WHERE DepartmentID = 101;\n",
    "\n",
    "---"
   ]
  },
  {
   "cell_type": "markdown",
   "id": "2a9eb800",
   "metadata": {},
   "source": [
    "**Que**: Calculate the total salary of all employees.\n",
    "\n",
    "**Ans**\n",
    "\n",
    "    SELECT SUM(Salary) AS TotalSalary\n",
    "    FROM Employees;\n",
    "\n",
    "---"
   ]
  },
  {
   "cell_type": "markdown",
   "id": "b4367757",
   "metadata": {},
   "source": [
    "**Que** What is the average salary of employees?\n",
    "\n",
    "**Ans**\n",
    "\n",
    "    SELECT AVG(Salary) AS AverageSalary\n",
    "    FROM Employees;\n",
    "\n",
    "---"
   ]
  },
  {
   "cell_type": "markdown",
   "id": "b728b9dc",
   "metadata": {},
   "source": [
    "**Que** Find the highest and lowest salary.\n",
    "\n",
    "**Ans**\n",
    "\n",
    "    SELECT MAX(Salary) AS HighestSalary, MIN(Salary) AS LowestSalary\n",
    "    FROM Employees;\n",
    "\n",
    "---"
   ]
  },
  {
   "cell_type": "markdown",
   "id": "3a325f7c",
   "metadata": {},
   "source": [
    "**Que**: Find the total and average salary for each department.\n",
    "\n",
    "**Ans**:\n",
    "    \n",
    "    SELECT\n",
    "    DepartmentID,\n",
    "    SUM(Salary) AS TotalDepartmentSalary,\n",
    "    AVG(Salary) AS AverageDepartmentSalary\n",
    "    FROM\n",
    "        Employees\n",
    "    GROUP BY\n",
    "        DepartmentID;\n",
    "\n",
    "---"
   ]
  },
  {
   "cell_type": "markdown",
   "id": "4b8e57d9",
   "metadata": {},
   "source": [
    "**Que**: List departments that have an average salary greater than 70000.\n",
    "\n",
    "**Ans**\n",
    "\n",
    "    SELECT\n",
    "        DepartmentID,\n",
    "        AVG(Salary) AS AverageDepartmentSalary\n",
    "    FROM\n",
    "        Employees\n",
    "    GROUP BY\n",
    "        DepartmentID\n",
    "    HAVING\n",
    "        AVG(Salary) > 70000;\n",
    "\n",
    "---"
   ]
  },
  {
   "cell_type": "markdown",
   "id": "696a7275",
   "metadata": {},
   "source": [
    "**Que**: Get the FirstName, LastName, Salary, and DepartmentName for all employees.\n",
    "\n",
    "**Ans**:\n",
    "\n",
    "    SELECT\n",
    "    E.FirstName,\n",
    "    E.LastName,\n",
    "    E.Salary,\n",
    "    D.DepartmentName\n",
    "    FROM\n",
    "        Employees E\n",
    "    INNER JOIN\n",
    "        Departments D ON E.DepartmentID = D.DepartmentID;\n",
    "\n",
    "---"
   ]
  },
  {
   "cell_type": "markdown",
   "id": "84783845",
   "metadata": {},
   "source": [
    "**Que**: List all departments and, for each department, list the FirstName and LastName of their employees. Include departments even if they have no employees.\n",
    "\n",
    "**Ans**:\n",
    "\n",
    "    SELECT\n",
    "    D.DepartmentName,\n",
    "    E.FirstName,\n",
    "    E.LastName\n",
    "    FROM\n",
    "        Departments D\n",
    "    LEFT JOIN\n",
    "        Employees E ON D.DepartmentID = E.DepartmentID;\n",
    "\n",
    "---"
   ]
  },
  {
   "cell_type": "markdown",
   "id": "56b50fde",
   "metadata": {},
   "source": [
    "**Que**: Find the names of employees who earn more than the average salary of all employees.\n",
    "\n",
    "**Ans**:\n",
    "\n",
    "    SELECT FirstName, LastName, Salary\n",
    "    FROM Employees\n",
    "    WHERE Salary > (SELECT AVG(Salary) FROM Employees);\n",
    "\n",
    "---"
   ]
  },
  {
   "cell_type": "markdown",
   "id": "18b6ecea",
   "metadata": {},
   "source": [
    "**Que**: Find the 2nd highest salary from the Employees table.\n",
    "\n",
    "**Ans**:\n",
    "\n",
    "1. \n",
    "    \n",
    "    SELECT Salary\n",
    "    FROM (\n",
    "        SELECT\n",
    "            Salary,\n",
    "            DENSE_RANK() OVER (ORDER BY Salary DESC) as rnk\n",
    "        FROM\n",
    "            Employees\n",
    "    ) AS RankedSalaries\n",
    "    WHERE rnk = 2;\n",
    "\n",
    "\n",
    "2. \n",
    "\n",
    "    SELECT DISTINCT Salary\n",
    "    FROM Employees\n",
    "    ORDER BY Salary DESC\n",
    "    LIMIT 1 OFFSET 1;\n",
    "\n",
    "3. \n",
    "\n",
    "    SELECT MAX(Salary)\n",
    "    FROM Employees\n",
    "    WHERE Salary < (SELECT MAX(Salary) FROM Employees);\n",
    "\n",
    "---"
   ]
  },
  {
   "cell_type": "markdown",
   "id": "85ca2349",
   "metadata": {},
   "source": [
    "**Que**: Identify any FirstName, LastName combinations that appear more than once in the Employees table.\n",
    "\n",
    "**Ans**:\n",
    "\n",
    "    SELECT\n",
    "        FirstName,\n",
    "        LastName,\n",
    "        COUNT(*) AS DuplicateCount\n",
    "    FROM\n",
    "        Employees\n",
    "    GROUP BY\n",
    "        FirstName,\n",
    "        LastName\n",
    "    HAVING\n",
    "        COUNT(*) > 1;\n",
    "\n",
    "---"
   ]
  },
  {
   "cell_type": "markdown",
   "id": "22125ce0",
   "metadata": {},
   "source": [
    "**Que**: Delete all employees who work in DepartmentID 104.\n",
    "\n",
    "**Ans**:\n",
    "\n",
    "    DELETE FROM Employees\n",
    "    WHERE DepartmentID = 104;\n",
    "\n",
    "---"
   ]
  },
  {
   "cell_type": "markdown",
   "id": "54ca7f6b",
   "metadata": {},
   "source": [
    "**Que**:  Increase the salary of all employees in DepartmentID 101 by 10%.\n",
    "\n",
    "**Ans**:\n",
    "\n",
    "    UPDATE Employees\n",
    "    SET Salary = Salary * 1.10\n",
    "    WHERE DepartmentID = 101;\n",
    "\n",
    "---"
   ]
  },
  {
   "cell_type": "markdown",
   "id": "41f9e46a",
   "metadata": {},
   "source": [
    "**Que**: Display employee names and a 'SalaryCategory' based on their salary: 'High' (>70000), 'Medium' (50000-70000), 'Low' (<50000).\n",
    "\n",
    "**Ans**:\n",
    "\n",
    "    SELECT\n",
    "    FirstName,\n",
    "    LastName,\n",
    "    Salary,\n",
    "    CASE\n",
    "        WHEN Salary > 70000 THEN 'High'\n",
    "        WHEN Salary >= 50000 AND Salary <= 70000 THEN 'Medium'\n",
    "        ELSE 'Low'\n",
    "    END AS SalaryCategory\n",
    "    FROM\n",
    "        Employees;\n",
    "\n",
    "---"
   ]
  },
  {
   "cell_type": "markdown",
   "id": "f4f93c67",
   "metadata": {},
   "source": []
  },
  {
   "cell_type": "markdown",
   "id": "3ddd2c80",
   "metadata": {},
   "source": []
  },
  {
   "cell_type": "markdown",
   "id": "cae07248",
   "metadata": {},
   "source": []
  }
 ],
 "metadata": {
  "language_info": {
   "name": "python"
  }
 },
 "nbformat": 4,
 "nbformat_minor": 5
}
