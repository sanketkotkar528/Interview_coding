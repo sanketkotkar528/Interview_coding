{
 "cells": [
  {
   "cell_type": "markdown",
   "id": "54193053",
   "metadata": {},
   "source": [
    "# Algorithmic Problem Solving\n",
    "\n",
    "### Question : Implement binary search algorithm."
   ]
  },
  {
   "cell_type": "markdown",
   "id": "293617c7",
   "metadata": {},
   "source": [
    "In this implementation:\n",
    "\n",
    "    - We define a function binary_search that takes a sorted array arr and a target value target as input.\n",
    "    - We initialize two pointers, left and right, to represent the range of elements to search within the array.\n",
    "    - We use a while loop to iteratively narrow down the search range until the left pointer is less than or equal to the right pointer.\n",
    "    - Inside the loop, we calculate the middle index (mid) of the current search range and compare the value at that index with the target value.\n",
    "    - If the target value is found at arr[mid], we return the index mid.\n",
    "    - If the target value is smaller than arr[mid], we update the right pointer to mid - 1 to search the left half of the array.\n",
    "    - If the target value is greater than arr[mid], we update the left pointer to mid + 1 to search the right half of the array.\n",
    "    - If the target value is not found after the loop, we return -1 to indicate that the target value is not present in the array.\n",
    "\n",
    "\n",
    "You can test the binary search algorithm by providing a sorted array and a target value, and it will return the index of the target value if it's present in the array, otherwise, it will return -1."
   ]
  },
  {
   "cell_type": "code",
   "execution_count": 1,
   "id": "92f78156",
   "metadata": {},
   "outputs": [
    {
     "name": "stdout",
     "output_type": "stream",
     "text": [
      "Element 10 is present at index 3\n"
     ]
    }
   ],
   "source": [
    "def binary_search(arr, target):\n",
    "    left, right = 0, len(arr) - 1\n",
    "\n",
    "    while left <= right:\n",
    "        mid = left + (right - left) // 2\n",
    "        \n",
    "        # Check if the target is present at mid\n",
    "        if arr[mid] == target:\n",
    "            return mid\n",
    "        \n",
    "        # If target is greater, ignore left half\n",
    "        elif arr[mid] < target:\n",
    "            left = mid + 1\n",
    "        \n",
    "        # If target is smaller, ignore right half\n",
    "        else:\n",
    "            right = mid - 1\n",
    "    \n",
    "    # If target is not present in the array\n",
    "    return -1\n",
    "\n",
    "# Test the binary search algorithm\n",
    "arr = [2, 3, 4, 10, 40]\n",
    "target = 10\n",
    "result = binary_search(arr, target)\n",
    "if result != -1:\n",
    "    print(\"Element\", target, \"is present at index\", result)\n",
    "else:\n",
    "    print(\"Element\", target, \"is not present in the array\")\n"
   ]
  },
  {
   "cell_type": "code",
   "execution_count": null,
   "id": "066cb026",
   "metadata": {},
   "outputs": [],
   "source": []
  },
  {
   "cell_type": "code",
   "execution_count": null,
   "id": "927ecd85",
   "metadata": {},
   "outputs": [],
   "source": []
  }
 ],
 "metadata": {
  "kernelspec": {
   "display_name": "Python 3 (ipykernel)",
   "language": "python",
   "name": "python3"
  },
  "language_info": {
   "codemirror_mode": {
    "name": "ipython",
    "version": 3
   },
   "file_extension": ".py",
   "mimetype": "text/x-python",
   "name": "python",
   "nbconvert_exporter": "python",
   "pygments_lexer": "ipython3",
   "version": "3.9.13"
  }
 },
 "nbformat": 4,
 "nbformat_minor": 5
}
