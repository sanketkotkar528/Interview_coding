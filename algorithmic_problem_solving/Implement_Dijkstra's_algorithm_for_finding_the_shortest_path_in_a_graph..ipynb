{
 "cells": [
  {
   "cell_type": "markdown",
   "id": "99302f14",
   "metadata": {},
   "source": [
    "# Algorithmic Problem Solving\n",
    "\n",
    "### Question : Implement Dijkstra's algorithm for finding the shortest path in a graph."
   ]
  },
  {
   "cell_type": "markdown",
   "id": "fc38110a",
   "metadata": {},
   "source": [
    "\n",
    "Dijkstra's algorithm is used to find the shortest path from a source vertex to all other vertices in a weighted graph with non-negative edge weights.\n",
    "\n",
    "Below is a Python implementation of Dijkstra's algorithm using a priority queue (heap) for efficiency:"
   ]
  },
  {
   "cell_type": "markdown",
   "id": "931590af",
   "metadata": {},
   "source": [
    "In this implementation:\n",
    "\n",
    "    - We initialize distances to all vertices as infinity except for the source vertex, which is initialized to 0.\n",
    "    - We use a priority queue (heap) to keep track of the vertices with the smallest known distances.\n",
    "    - We iteratively relax the edges (update distances) while exploring vertices in the priority queue.\n",
    "    - After the algorithm finishes, the distances dictionary contains the shortest distances from the source vertex to all other vertices.\n",
    "\n",
    "You can test the algorithm by providing a graph represented as a dictionary of dictionaries, where the keys are vertices, and the values are dictionaries of neighboring vertices with their corresponding edge weights. Then, specify the source vertex, and the algorithm will return the shortest distances from the source vertex to all other vertices"
   ]
  },
  {
   "cell_type": "code",
   "execution_count": 1,
   "id": "f9bbebdc",
   "metadata": {},
   "outputs": [
    {
     "name": "stdout",
     "output_type": "stream",
     "text": [
      "Shortest distances from source A to all other vertices:\n",
      "Distance to A : 0\n",
      "Distance to B : 1\n",
      "Distance to C : 3\n",
      "Distance to D : 4\n"
     ]
    }
   ],
   "source": [
    "import heapq\n",
    "\n",
    "def dijkstra(graph, source):\n",
    "    # Initialize distances to all vertices as infinity and source distance as 0\n",
    "    distances = {vertex: float('inf') for vertex in graph}\n",
    "    distances[source] = 0\n",
    "\n",
    "    # Initialize priority queue with (distance, vertex) tuples\n",
    "    pq = [(0, source)]\n",
    "\n",
    "    while pq:\n",
    "        # Pop the vertex with the smallest distance from the priority queue\n",
    "        current_distance, current_vertex = heapq.heappop(pq)\n",
    "\n",
    "        # Skip if the current distance is already greater than the distance in the distances dictionary\n",
    "        if current_distance > distances[current_vertex]:\n",
    "            continue\n",
    "\n",
    "        # Update distances for adjacent vertices\n",
    "        for neighbor, weight in graph[current_vertex].items():\n",
    "            distance = current_distance + weight\n",
    "            # If the new distance is smaller, update it and add the neighbor to the priority queue\n",
    "            if distance < distances[neighbor]:\n",
    "                distances[neighbor] = distance\n",
    "                heapq.heappush(pq, (distance, neighbor))\n",
    "\n",
    "    return distances\n",
    "\n",
    "# Test the algorithm\n",
    "graph = {\n",
    "    'A': {'B': 1, 'C': 4},\n",
    "    'B': {'A': 1, 'C': 2, 'D': 5},\n",
    "    'C': {'A': 4, 'B': 2, 'D': 1},\n",
    "    'D': {'B': 5, 'C': 1}\n",
    "}\n",
    "source = 'A'\n",
    "distances = dijkstra(graph, source)\n",
    "print(\"Shortest distances from source\", source, \"to all other vertices:\")\n",
    "for vertex, distance in distances.items():\n",
    "    print(\"Distance to\", vertex, \":\", distance)\n"
   ]
  },
  {
   "cell_type": "code",
   "execution_count": null,
   "id": "dd4657e8",
   "metadata": {},
   "outputs": [],
   "source": []
  }
 ],
 "metadata": {
  "kernelspec": {
   "display_name": "Python 3 (ipykernel)",
   "language": "python",
   "name": "python3"
  },
  "language_info": {
   "codemirror_mode": {
    "name": "ipython",
    "version": 3
   },
   "file_extension": ".py",
   "mimetype": "text/x-python",
   "name": "python",
   "nbconvert_exporter": "python",
   "pygments_lexer": "ipython3",
   "version": "3.9.13"
  }
 },
 "nbformat": 4,
 "nbformat_minor": 5
}
