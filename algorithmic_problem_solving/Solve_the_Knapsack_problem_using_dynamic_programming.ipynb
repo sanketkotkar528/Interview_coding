{
 "cells": [
  {
   "cell_type": "markdown",
   "id": "1b112de1",
   "metadata": {},
   "source": [
    "# Algorithmic Problem Solving\n",
    "\n",
    "### Question : Solve the \"Knapsack problem\" using dynamic programming."
   ]
  },
  {
   "cell_type": "markdown",
   "id": "2db4a60b",
   "metadata": {},
   "source": [
    "In this implementation:\n",
    "\n",
    "    - We define a function knapsack that takes a list of weights, a list of values, and the capacity of the knapsack as input.\n",
    "    - We initialize a table dp to store the maximum value that can be obtained for different capacities and number of items.\n",
    "    - We fill the table using a bottom-up dynamic programming approach, where dp[i][w] represents the maximum value that can be obtained with the first i items and a capacity of w.\n",
    "    - We reconstruct the selected items from the table by tracing back from the bottom-right corner.\n",
    "    - Finally, we return the maximum value that can be obtained and the indices of the selected items.\n",
    "\n",
    "\n",
    "You can test the knapsack function by providing weights, values, and the capacity of the knapsack, and it will return the maximum value that can be obtained and the indices of the selected items.\n",
    "\n",
    "\n",
    "\n",
    "\n"
   ]
  },
  {
   "cell_type": "code",
   "execution_count": 2,
   "id": "d2f1f0af",
   "metadata": {},
   "outputs": [
    {
     "name": "stdout",
     "output_type": "stream",
     "text": [
      "Maximum value that can be obtained: 7\n",
      "Selected items: [1, 0]\n"
     ]
    }
   ],
   "source": [
    "def knapsack(weights, values, capacity):\n",
    "    n = len(weights)\n",
    "    # Initialize a table to store the maximum value that can be obtained for different capacities and number of items\n",
    "    dp = [[0] * (capacity + 1) for _ in range(n + 1)]\n",
    "\n",
    "    # Fill the table using bottom-up dynamic programming approach\n",
    "    for i in range(1, n + 1):\n",
    "        for w in range(1, capacity + 1):\n",
    "            if weights[i - 1] <= w:\n",
    "                dp[i][w] = max(values[i - 1] + dp[i - 1][w - weights[i - 1]], dp[i - 1][w])\n",
    "            else:\n",
    "                dp[i][w] = dp[i - 1][w]\n",
    "\n",
    "    # Reconstruct the selected items from the table\n",
    "    selected_items = []\n",
    "    i, w = n, capacity\n",
    "    while i > 0 and w > 0:\n",
    "        if dp[i][w] != dp[i - 1][w]:\n",
    "            selected_items.append(i - 1)\n",
    "            w -= weights[i - 1]\n",
    "        i -= 1\n",
    "\n",
    "    return dp[n][capacity], selected_items\n",
    "\n",
    "# Test the knapsack function\n",
    "weights = [2, 3, 4, 5]\n",
    "values = [3, 4, 5, 6]\n",
    "capacity = 5\n",
    "max_value, selected_items = knapsack(weights, values, capacity)\n",
    "print(\"Maximum value that can be obtained:\", max_value)\n",
    "print(\"Selected items:\", selected_items)\n"
   ]
  },
  {
   "cell_type": "code",
   "execution_count": null,
   "id": "71e5b514",
   "metadata": {},
   "outputs": [],
   "source": []
  },
  {
   "cell_type": "code",
   "execution_count": null,
   "id": "4af23b49",
   "metadata": {},
   "outputs": [],
   "source": []
  },
  {
   "cell_type": "code",
   "execution_count": null,
   "id": "727d4909",
   "metadata": {},
   "outputs": [],
   "source": []
  }
 ],
 "metadata": {
  "kernelspec": {
   "display_name": "Python 3 (ipykernel)",
   "language": "python",
   "name": "python3"
  },
  "language_info": {
   "codemirror_mode": {
    "name": "ipython",
    "version": 3
   },
   "file_extension": ".py",
   "mimetype": "text/x-python",
   "name": "python",
   "nbconvert_exporter": "python",
   "pygments_lexer": "ipython3",
   "version": "3.9.13"
  }
 },
 "nbformat": 4,
 "nbformat_minor": 5
}
