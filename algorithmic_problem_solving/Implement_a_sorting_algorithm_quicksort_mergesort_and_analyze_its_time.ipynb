{
 "cells": [
  {
   "cell_type": "markdown",
   "id": "b0a87f6e",
   "metadata": {},
   "source": [
    "# Algorithmic Problem Solving\n",
    "\n",
    "### Question : Implement a sorting algorithm (e.g., quicksort, mergesort) and analyze its time"
   ]
  },
  {
   "cell_type": "markdown",
   "id": "1feb98e5",
   "metadata": {},
   "source": [
    "In this implementation:\n",
    "\n",
    "    - We define a function merge_sort that takes an array arr as input.\n",
    "    - If the length of the array is greater than 1, we divide the array into two halves and recursively call merge_sort on each half.\n",
    "    - After sorting the left and right halves, we merge them together in sorted order using the merge operation.\n",
    "    - The merge operation compares elements from the left and right halves and merges them into a single sorted array.\n",
    "    - Finally, the original array is sorted in-place.\n",
    "\n",
    "To analyze the time complexity of Merge Sort:\n",
    "\n",
    "    - The divide step takes O(log n) time because the array is recursively divided into halves until each subarray contains a single element.\n",
    "    - The merge step takes O(n) time because each element in the input array is visited exactly once during the merge operation.\n",
    "    - Therefore, the overall time complexity of Merge Sort is O(n log n), making it an efficient sorting algorithm for large datasets."
   ]
  },
  {
   "cell_type": "code",
   "execution_count": 1,
   "id": "545425b5",
   "metadata": {},
   "outputs": [
    {
     "name": "stdout",
     "output_type": "stream",
     "text": [
      "Original array: [12, 11, 13, 5, 6, 7]\n",
      "Sorted array: [5, 6, 7, 11, 12, 13]\n"
     ]
    }
   ],
   "source": [
    "def merge_sort(arr):\n",
    "    if len(arr) > 1:\n",
    "        mid = len(arr) // 2\n",
    "        left_half = arr[:mid]\n",
    "        right_half = arr[mid:]\n",
    "\n",
    "        # Recursive call to sort the left half\n",
    "        merge_sort(left_half)\n",
    "        # Recursive call to sort the right half\n",
    "        merge_sort(right_half)\n",
    "\n",
    "        # Merge the sorted left and right halves\n",
    "        i = j = k = 0\n",
    "        while i < len(left_half) and j < len(right_half):\n",
    "            if left_half[i] < right_half[j]:\n",
    "                arr[k] = left_half[i]\n",
    "                i += 1\n",
    "            else:\n",
    "                arr[k] = right_half[j]\n",
    "                j += 1\n",
    "            k += 1\n",
    "\n",
    "        while i < len(left_half):\n",
    "            arr[k] = left_half[i]\n",
    "            i += 1\n",
    "            k += 1\n",
    "\n",
    "        while j < len(right_half):\n",
    "            arr[k] = right_half[j]\n",
    "            j += 1\n",
    "            k += 1\n",
    "\n",
    "# Test the Merge Sort algorithm\n",
    "arr = [12, 11, 13, 5, 6, 7]\n",
    "print(\"Original array:\", arr)\n",
    "merge_sort(arr)\n",
    "print(\"Sorted array:\", arr)\n"
   ]
  },
  {
   "cell_type": "code",
   "execution_count": null,
   "id": "44adf7f5",
   "metadata": {},
   "outputs": [],
   "source": []
  },
  {
   "cell_type": "code",
   "execution_count": null,
   "id": "37984b9a",
   "metadata": {},
   "outputs": [],
   "source": []
  }
 ],
 "metadata": {
  "kernelspec": {
   "display_name": "Python 3 (ipykernel)",
   "language": "python",
   "name": "python3"
  },
  "language_info": {
   "codemirror_mode": {
    "name": "ipython",
    "version": 3
   },
   "file_extension": ".py",
   "mimetype": "text/x-python",
   "name": "python",
   "nbconvert_exporter": "python",
   "pygments_lexer": "ipython3",
   "version": "3.9.13"
  }
 },
 "nbformat": 4,
 "nbformat_minor": 5
}
