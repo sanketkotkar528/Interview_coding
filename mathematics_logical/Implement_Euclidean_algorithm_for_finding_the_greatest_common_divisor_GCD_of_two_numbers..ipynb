{
 "cells": [
  {
   "cell_type": "markdown",
   "id": "7c83ab94",
   "metadata": {},
   "source": [
    "# Mathematical & Logical\n",
    "\n",
    "### Question : Implement Euclidean algorithm for finding the greatest common divisor (GCD) of two numbers."
   ]
  },
  {
   "cell_type": "markdown",
   "id": "f027d347",
   "metadata": {},
   "source": [
    "In this implementation:\n",
    "\n",
    "    - We define a function gcd that takes two numbers a and b as input.\n",
    "    - We use a while loop to repeatedly take the remainder of a divided by b until b becomes 0. This process is based on the observation that the GCD of two numbers does not change if the larger number is replaced by its remainder when divided by the smaller number.\n",
    "    - Finally, we return a, which will be the GCD of the original a and b.\n",
    "\n",
    "\n",
    "You can test the function by providing two numbers, and it will return the greatest common divisor (GCD) of those numbers.\n",
    "\n",
    "\n",
    "\n",
    "\n"
   ]
  },
  {
   "cell_type": "code",
   "execution_count": 1,
   "id": "a165594b",
   "metadata": {},
   "outputs": [
    {
     "name": "stdout",
     "output_type": "stream",
     "text": [
      "Enter the first number: 25\n",
      "Enter the second number: 32\n",
      "GCD of 25 and 32 is: 1\n"
     ]
    }
   ],
   "source": [
    "def gcd(a, b):\n",
    "    # Keep taking the remainder until b becomes 0\n",
    "    while b:\n",
    "        a, b = b, a % b\n",
    "    return a\n",
    "\n",
    "# Test the function\n",
    "num1 = int(input(\"Enter the first number: \"))\n",
    "num2 = int(input(\"Enter the second number: \"))\n",
    "print(\"GCD of\", num1, \"and\", num2, \"is:\", gcd(num1, num2))\n"
   ]
  },
  {
   "cell_type": "code",
   "execution_count": null,
   "id": "7f6a7919",
   "metadata": {},
   "outputs": [],
   "source": []
  },
  {
   "cell_type": "code",
   "execution_count": null,
   "id": "f5ec4008",
   "metadata": {},
   "outputs": [],
   "source": []
  }
 ],
 "metadata": {
  "kernelspec": {
   "display_name": "Python 3 (ipykernel)",
   "language": "python",
   "name": "python3"
  },
  "language_info": {
   "codemirror_mode": {
    "name": "ipython",
    "version": 3
   },
   "file_extension": ".py",
   "mimetype": "text/x-python",
   "name": "python",
   "nbconvert_exporter": "python",
   "pygments_lexer": "ipython3",
   "version": "3.9.13"
  }
 },
 "nbformat": 4,
 "nbformat_minor": 5
}
