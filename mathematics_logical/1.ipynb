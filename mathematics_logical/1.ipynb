{
 "cells": [
  {
   "cell_type": "markdown",
   "metadata": {},
   "source": [
    "# \"Minimum Path Sum in a Grid\" problem using 2D DP"
   ]
  },
  {
   "cell_type": "code",
   "execution_count": 4,
   "metadata": {},
   "outputs": [
    {
     "name": "stdout",
     "output_type": "stream",
     "text": [
      "Minimum path sum for grid1: 7\n",
      "Minimum path sum for grid2: 12\n"
     ]
    }
   ],
   "source": [
    "def minPathSum(grid):\n",
    "    \"\"\"\n",
    "    Calculates the minimum path sum from the top-left to the bottom-right\n",
    "    of a grid, moving only down or right.\n",
    "\n",
    "    Args:\n",
    "        grid: A list of lists of integers representing the grid.\n",
    "\n",
    "    Returns:\n",
    "        The minimum sum of all numbers along the path.\n",
    "    \"\"\"\n",
    "    if not grid or not grid[0]:\n",
    "        return 0\n",
    "\n",
    "    m = len(grid)    # Number of rows\n",
    "    n = len(grid[0]) # Number of columns\n",
    "\n",
    "    # Create a 2D DP table of the same dimensions as the grid\n",
    "    # dp[i][j] will store the minimum path sum to reach cell (i, j)\n",
    "    dp = [[0 for _ in range(n)] for _ in range(m)]\n",
    "\n",
    "    # --- Initialize Base Cases ---\n",
    "\n",
    "    # Base case 1: Starting cell (0, 0)\n",
    "    dp[0][0] = grid[0][0]\n",
    "\n",
    "    # Base case 2: First row (can only come from the left)\n",
    "    for j in range(1, n):\n",
    "        dp[0][j] = grid[0][j] + dp[0][j - 1]\n",
    "\n",
    "    # Base case 3: First column (can only come from above)\n",
    "    for i in range(1, m):\n",
    "        dp[i][0] = grid[i][0] + dp[i - 1][0]\n",
    "\n",
    "    # --- Fill the DP table using the recurrence relation ---\n",
    "    # For every other cell (i, j), it can be reached from (i-1, j) or (i, j-1)\n",
    "    for i in range(1, m):\n",
    "        for j in range(1, n):\n",
    "            dp[i][j] = grid[i][j] + min(dp[i - 1][j], dp[i][j - 1])\n",
    "\n",
    "    # The result is the minimum path sum to the bottom-right cell\n",
    "    return dp[m - 1][n - 1]\n",
    "\n",
    "if __name__ == \"__main__\":\n",
    "    grid1 = [\n",
    "        [1, 3, 1],\n",
    "        [1, 5, 1],\n",
    "        [4, 2, 1]\n",
    "    ]\n",
    "    print(f\"Minimum path sum for grid1: {minPathSum(grid1)}\")\n",
    "\n",
    "    grid2 = [\n",
    "        [1, 2, 3],\n",
    "        [4, 5, 6]\n",
    "    ]\n",
    "    print(f\"Minimum path sum for grid2: {minPathSum(grid2)}\") # Expected: 12"
   ]
  },
  {
   "cell_type": "code",
   "execution_count": null,
   "metadata": {},
   "outputs": [],
   "source": []
  }
 ],
 "metadata": {
  "kernelspec": {
   "display_name": "base",
   "language": "python",
   "name": "python3"
  },
  "language_info": {
   "codemirror_mode": {
    "name": "ipython",
    "version": 3
   },
   "file_extension": ".py",
   "mimetype": "text/x-python",
   "name": "python",
   "nbconvert_exporter": "python",
   "pygments_lexer": "ipython3",
   "version": "3.9.13"
  }
 },
 "nbformat": 4,
 "nbformat_minor": 2
}
