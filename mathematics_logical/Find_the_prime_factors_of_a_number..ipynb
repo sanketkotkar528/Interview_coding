{
 "cells": [
  {
   "cell_type": "markdown",
   "id": "56e1f5ea",
   "metadata": {},
   "source": [
    "# Mathematics and logic\n",
    "\n",
    "### Question : Find the prime factors of a number."
   ]
  },
  {
   "cell_type": "markdown",
   "id": "5e35cde8",
   "metadata": {},
   "source": [
    "In this function:\n",
    "\n",
    "    - We start by dividing the number n by its smallest prime factor (which is 2) repeatedly until it's not divisible by 2 anymore.\n",
    "    - Then, we iterate from 3 to the square root of n (inclusive) and divide n by each odd number (prime candidate) if it's divisible.\n",
    "    - After the loop, if n is greater than 2, it means that n itself is a prime number greater than 2, so we append it to the list of factors.\n",
    "    - Finally, we return the list of prime factors.\n",
    "\n",
    "You can test the function by providing a number, and it will return the prime factors of that number."
   ]
  },
  {
   "cell_type": "code",
   "execution_count": 1,
   "id": "33be4aa3",
   "metadata": {},
   "outputs": [
    {
     "name": "stdout",
     "output_type": "stream",
     "text": [
      "Enter a number: 25\n",
      "Prime factors of 25 are: [5, 5]\n"
     ]
    }
   ],
   "source": [
    "def prime_factors(n):\n",
    "    factors = []\n",
    "    # Find the smallest prime factor of n\n",
    "    while n % 2 == 0:\n",
    "        factors.append(2)\n",
    "        n //= 2\n",
    "    for i in range(3, int(n**0.5) + 1, 2):\n",
    "        while n % i == 0:\n",
    "            factors.append(i)\n",
    "            n //= i\n",
    "    # If n is a prime number greater than 2\n",
    "    if n > 2:\n",
    "        factors.append(n)\n",
    "    return factors\n",
    "\n",
    "# Test the function\n",
    "num = int(input(\"Enter a number: \"))\n",
    "print(\"Prime factors of\", num, \"are:\", prime_factors(num))\n"
   ]
  }
 ],
 "metadata": {
  "kernelspec": {
   "display_name": "Python 3 (ipykernel)",
   "language": "python",
   "name": "python3"
  },
  "language_info": {
   "codemirror_mode": {
    "name": "ipython",
    "version": 3
   },
   "file_extension": ".py",
   "mimetype": "text/x-python",
   "name": "python",
   "nbconvert_exporter": "python",
   "pygments_lexer": "ipython3",
   "version": "3.9.13"
  }
 },
 "nbformat": 4,
 "nbformat_minor": 5
}
