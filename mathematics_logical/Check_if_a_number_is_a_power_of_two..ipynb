{
 "cells": [
  {
   "cell_type": "markdown",
   "id": "53c63582",
   "metadata": {},
   "source": [
    "# Mathematics and Logic\n",
    "\n",
    "### Question : Check if a number is a power of two."
   ]
  },
  {
   "cell_type": "markdown",
   "id": "d49c3b76",
   "metadata": {},
   "source": [
    "In this function:\n",
    "\n",
    "    - We check if the number n is greater than 0 (since negative numbers are not powers of two).\n",
    "    - We then use the bitwise AND operation n & (n - 1) to unset the rightmost set bit of n.\n",
    "    - If the result is 0 after the bitwise AND operation, it means that n had only one bit set, indicating that it is a power of two.\n",
    "    - If both conditions are satisfied, we return True, indicating that the number is a power of two; otherwise, we return False.\n",
    "\n",
    "\n",
    "You can test the function by providing a number, and it will return whether the number is a power of two or not."
   ]
  },
  {
   "cell_type": "code",
   "execution_count": 2,
   "id": "fb0e977c",
   "metadata": {},
   "outputs": [
    {
     "name": "stdout",
     "output_type": "stream",
     "text": [
      "Enter a number: 4\n",
      "4 is a power of two\n"
     ]
    }
   ],
   "source": [
    "def is_power_of_two(n):\n",
    "    # A number is a power of two if it has only one bit set in its binary representation\n",
    "    # and the number is greater than 0\n",
    "    return n > 0 and (n & (n - 1)) == 0\n",
    "\n",
    "# Test the function\n",
    "num = int(input(\"Enter a number: \"))\n",
    "if is_power_of_two(num):\n",
    "    print(num, \"is a power of two\")\n",
    "else:\n",
    "    print(num, \"is not a power of two\")\n"
   ]
  },
  {
   "cell_type": "code",
   "execution_count": null,
   "id": "161acaa6",
   "metadata": {},
   "outputs": [],
   "source": []
  },
  {
   "cell_type": "code",
   "execution_count": null,
   "id": "e8ec4d43",
   "metadata": {},
   "outputs": [],
   "source": []
  }
 ],
 "metadata": {
  "kernelspec": {
   "display_name": "Python 3 (ipykernel)",
   "language": "python",
   "name": "python3"
  },
  "language_info": {
   "codemirror_mode": {
    "name": "ipython",
    "version": 3
   },
   "file_extension": ".py",
   "mimetype": "text/x-python",
   "name": "python",
   "nbconvert_exporter": "python",
   "pygments_lexer": "ipython3",
   "version": "3.9.13"
  }
 },
 "nbformat": 4,
 "nbformat_minor": 5
}
