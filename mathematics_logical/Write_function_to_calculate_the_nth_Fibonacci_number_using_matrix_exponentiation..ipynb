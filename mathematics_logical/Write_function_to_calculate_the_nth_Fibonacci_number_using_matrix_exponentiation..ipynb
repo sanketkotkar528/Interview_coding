{
 "cells": [
  {
   "cell_type": "markdown",
   "id": "bdb4633c",
   "metadata": {},
   "source": [
    "# Mathematics and Logical\n",
    "\n",
    "### Question : Write a function to calculate the nth Fibonacci number using matrix exponentiation."
   ]
  },
  {
   "cell_type": "markdown",
   "id": "d509a431",
   "metadata": {},
   "source": [
    "In this implementation:\n",
    "\n",
    "    - We define two helper functions: multiply_matrices to multiply two 2x2 matrices and power_matrix to raise a 2x2 matrix to the power of n using matrix exponentiation.\n",
    "    - The fibonacci function calculates the nth Fibonacci number by raising the base matrix [[1, 1], [1, 0]] to the power of n - 1 and extracting the value at position [0][0] from the resulting matrix.\n",
    "    - The base case checks if n is less than or equal to 0 or equal to 1, in which case the Fibonacci number is 0 or 1, respectively.\n",
    "\n",
    "\n",
    "You can test the function by providing a value for n, and it will return the nth Fibonacci number."
   ]
  },
  {
   "cell_type": "code",
   "execution_count": 1,
   "id": "6a21f56d",
   "metadata": {},
   "outputs": [
    {
     "name": "stdout",
     "output_type": "stream",
     "text": [
      "Enter the value of n: 25\n",
      "The 25 th Fibonacci number is: 75025\n"
     ]
    }
   ],
   "source": [
    "def multiply_matrices(matrix1, matrix2):\n",
    "    result = [[0, 0], [0, 0]]\n",
    "    for i in range(2):\n",
    "        for j in range(2):\n",
    "            for k in range(2):\n",
    "                result[i][j] += matrix1[i][k] * matrix2[k][j]\n",
    "    return result\n",
    "\n",
    "def power_matrix(matrix, n):\n",
    "    result = [[1, 0], [0, 1]]\n",
    "    while n:\n",
    "        if n % 2 == 1:\n",
    "            result = multiply_matrices(result, matrix)\n",
    "        matrix = multiply_matrices(matrix, matrix)\n",
    "        n //= 2\n",
    "    return result\n",
    "\n",
    "def fibonacci(n):\n",
    "    if n <= 0:\n",
    "        return 0\n",
    "    if n == 1:\n",
    "        return 1\n",
    "    base_matrix = [[1, 1], [1, 0]]\n",
    "    result_matrix = power_matrix(base_matrix, n - 1)\n",
    "    return result_matrix[0][0]\n",
    "\n",
    "# Test the function\n",
    "n = int(input(\"Enter the value of n: \"))\n",
    "print(\"The\", n, \"th Fibonacci number is:\", fibonacci(n))\n"
   ]
  },
  {
   "cell_type": "code",
   "execution_count": null,
   "id": "e749e33f",
   "metadata": {},
   "outputs": [],
   "source": []
  },
  {
   "cell_type": "code",
   "execution_count": null,
   "id": "e4e9da9d",
   "metadata": {},
   "outputs": [],
   "source": []
  }
 ],
 "metadata": {
  "kernelspec": {
   "display_name": "Python 3 (ipykernel)",
   "language": "python",
   "name": "python3"
  },
  "language_info": {
   "codemirror_mode": {
    "name": "ipython",
    "version": 3
   },
   "file_extension": ".py",
   "mimetype": "text/x-python",
   "name": "python",
   "nbconvert_exporter": "python",
   "pygments_lexer": "ipython3",
   "version": "3.9.13"
  }
 },
 "nbformat": 4,
 "nbformat_minor": 5
}
