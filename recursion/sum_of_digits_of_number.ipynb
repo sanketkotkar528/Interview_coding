{
 "cells": [
  {
   "cell_type": "markdown",
   "id": "a9585a46",
   "metadata": {},
   "source": [
    "# Recursion \n",
    "\n",
    "### Question : Implement a recursive function to calculate the sum of digits of a number."
   ]
  },
  {
   "cell_type": "code",
   "execution_count": 1,
   "id": "181a4b66",
   "metadata": {},
   "outputs": [
    {
     "name": "stdout",
     "output_type": "stream",
     "text": [
      "Enter a number: 45\n",
      "Sum of digits of 45 is 9\n"
     ]
    }
   ],
   "source": [
    "def sum_of_digits(n):\n",
    "    # Base case: if the number is a single digit, return the number itself\n",
    "    if n < 10:\n",
    "        return n\n",
    "    # Recursive case: calculate sum of digits of the number by adding the last digit to the sum of digits of the remaining number\n",
    "    else:\n",
    "        return n % 10 + sum_of_digits(n // 10)\n",
    "\n",
    "# Test the function\n",
    "number = int(input(\"Enter a number: \"))\n",
    "if number < 0:\n",
    "    print(\"Please enter a non-negative integer.\")\n",
    "else:\n",
    "    print(\"Sum of digits of\", number, \"is\", sum_of_digits(number))\n"
   ]
  },
  {
   "cell_type": "markdown",
   "id": "31810554",
   "metadata": {},
   "source": [
    "In this function:\n",
    "\n",
    "    - We define a recursive function sum_of_digits that takes an integer n as input.\n",
    "    - The base case is when n is less than 10, in which case the sum of digits is the number itself.\n",
    "    - In the recursive case, we calculate the sum of digits of n by adding the last digit (obtained using % 10) to the sum of digits of the remaining number (obtained using // 10 to remove the last digit).\n",
    "    - We call the sum_of_digits function with the input number and print the sum of its digits.\n",
    "\n",
    "This implementation effectively demonstrates the use of recursion to calculate the sum of digits of a number."
   ]
  },
  {
   "cell_type": "code",
   "execution_count": null,
   "id": "cf01dea0",
   "metadata": {},
   "outputs": [],
   "source": []
  }
 ],
 "metadata": {
  "kernelspec": {
   "display_name": "Python 3 (ipykernel)",
   "language": "python",
   "name": "python3"
  },
  "language_info": {
   "codemirror_mode": {
    "name": "ipython",
    "version": 3
   },
   "file_extension": ".py",
   "mimetype": "text/x-python",
   "name": "python",
   "nbconvert_exporter": "python",
   "pygments_lexer": "ipython3",
   "version": "3.9.13"
  }
 },
 "nbformat": 4,
 "nbformat_minor": 5
}
