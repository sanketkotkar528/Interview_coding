{
 "cells": [
  {
   "cell_type": "markdown",
   "id": "9dc9c1b8",
   "metadata": {},
   "source": [
    "# Recursion\n",
    "\n",
    "### Question : Use recursion to generate all permutations of a string."
   ]
  },
  {
   "cell_type": "code",
   "execution_count": 3,
   "id": "81d1fb87",
   "metadata": {},
   "outputs": [
    {
     "name": "stdout",
     "output_type": "stream",
     "text": [
      "Enter a string: sanket\n",
      "Permutations of the string:\n",
      "['sanket', 'sankte', 'sanekt', 'sanetk', 'santke', 'santek', 'saknet', 'saknte', 'sakent', 'saketn', 'saktne', 'sakten', 'saenkt', 'saentk', 'saeknt', 'saektn', 'saetnk', 'saetkn', 'satnke', 'satnek', 'satkne', 'satken', 'satenk', 'satekn', 'snaket', 'snakte', 'snaekt', 'snaetk', 'snatke', 'snatek', 'snkaet', 'snkate', 'snkeat', 'snketa', 'snktae', 'snktea', 'sneakt', 'sneatk', 'snekat', 'snekta', 'snetak', 'snetka', 'sntake', 'sntaek', 'sntkae', 'sntkea', 'snteak', 'snteka', 'skanet', 'skante', 'skaent', 'skaetn', 'skatne', 'skaten', 'sknaet', 'sknate', 'skneat', 'skneta', 'skntae', 'skntea', 'skeant', 'skeatn', 'skenat', 'skenta', 'sketan', 'sketna', 'sktane', 'sktaen', 'sktnae', 'sktnea', 'sktean', 'sktena', 'seankt', 'seantk', 'seaknt', 'seaktn', 'seatnk', 'seatkn', 'senakt', 'senatk', 'senkat', 'senkta', 'sentak', 'sentka', 'sekant', 'sekatn', 'seknat', 'seknta', 'sektan', 'sektna', 'setank', 'setakn', 'setnak', 'setnka', 'setkan', 'setkna', 'stanke', 'stanek', 'stakne', 'staken', 'staenk', 'staekn', 'stnake', 'stnaek', 'stnkae', 'stnkea', 'stneak', 'stneka', 'stkane', 'stkaen', 'stknae', 'stknea', 'stkean', 'stkena', 'steank', 'steakn', 'stenak', 'stenka', 'stekan', 'stekna', 'asnket', 'asnkte', 'asnekt', 'asnetk', 'asntke', 'asntek', 'asknet', 'asknte', 'askent', 'asketn', 'asktne', 'askten', 'asenkt', 'asentk', 'aseknt', 'asektn', 'asetnk', 'asetkn', 'astnke', 'astnek', 'astkne', 'astken', 'astenk', 'astekn', 'ansket', 'anskte', 'ansekt', 'ansetk', 'anstke', 'anstek', 'ankset', 'ankste', 'ankest', 'ankets', 'anktse', 'anktes', 'aneskt', 'anestk', 'anekst', 'anekts', 'anetsk', 'anetks', 'antske', 'antsek', 'antkse', 'antkes', 'antesk', 'anteks', 'aksnet', 'aksnte', 'aksent', 'aksetn', 'akstne', 'aksten', 'aknset', 'aknste', 'aknest', 'aknets', 'akntse', 'akntes', 'akesnt', 'akestn', 'akenst', 'akents', 'aketsn', 'aketns', 'aktsne', 'aktsen', 'aktnse', 'aktnes', 'aktesn', 'aktens', 'aesnkt', 'aesntk', 'aesknt', 'aesktn', 'aestnk', 'aestkn', 'aenskt', 'aenstk', 'aenkst', 'aenkts', 'aentsk', 'aentks', 'aeksnt', 'aekstn', 'aeknst', 'aeknts', 'aektsn', 'aektns', 'aetsnk', 'aetskn', 'aetnsk', 'aetnks', 'aetksn', 'aetkns', 'atsnke', 'atsnek', 'atskne', 'atsken', 'atsenk', 'atsekn', 'atnske', 'atnsek', 'atnkse', 'atnkes', 'atnesk', 'atneks', 'atksne', 'atksen', 'atknse', 'atknes', 'atkesn', 'atkens', 'atesnk', 'ateskn', 'atensk', 'atenks', 'ateksn', 'atekns', 'nsaket', 'nsakte', 'nsaekt', 'nsaetk', 'nsatke', 'nsatek', 'nskaet', 'nskate', 'nskeat', 'nsketa', 'nsktae', 'nsktea', 'nseakt', 'nseatk', 'nsekat', 'nsekta', 'nsetak', 'nsetka', 'nstake', 'nstaek', 'nstkae', 'nstkea', 'nsteak', 'nsteka', 'nasket', 'naskte', 'nasekt', 'nasetk', 'nastke', 'nastek', 'nakset', 'nakste', 'nakest', 'nakets', 'naktse', 'naktes', 'naeskt', 'naestk', 'naekst', 'naekts', 'naetsk', 'naetks', 'natske', 'natsek', 'natkse', 'natkes', 'natesk', 'nateks', 'nksaet', 'nksate', 'nkseat', 'nkseta', 'nkstae', 'nkstea', 'nkaset', 'nkaste', 'nkaest', 'nkaets', 'nkatse', 'nkates', 'nkesat', 'nkesta', 'nkeast', 'nkeats', 'nketsa', 'nketas', 'nktsae', 'nktsea', 'nktase', 'nktaes', 'nktesa', 'nkteas', 'nesakt', 'nesatk', 'neskat', 'neskta', 'nestak', 'nestka', 'neaskt', 'neastk', 'neakst', 'neakts', 'neatsk', 'neatks', 'neksat', 'neksta', 'nekast', 'nekats', 'nektsa', 'nektas', 'netsak', 'netska', 'netask', 'netaks', 'netksa', 'netkas', 'ntsake', 'ntsaek', 'ntskae', 'ntskea', 'ntseak', 'ntseka', 'ntaske', 'ntasek', 'ntakse', 'ntakes', 'ntaesk', 'ntaeks', 'ntksae', 'ntksea', 'ntkase', 'ntkaes', 'ntkesa', 'ntkeas', 'ntesak', 'nteska', 'nteask', 'nteaks', 'nteksa', 'ntekas', 'ksanet', 'ksante', 'ksaent', 'ksaetn', 'ksatne', 'ksaten', 'ksnaet', 'ksnate', 'ksneat', 'ksneta', 'ksntae', 'ksntea', 'kseant', 'kseatn', 'ksenat', 'ksenta', 'ksetan', 'ksetna', 'kstane', 'kstaen', 'kstnae', 'kstnea', 'kstean', 'kstena', 'kasnet', 'kasnte', 'kasent', 'kasetn', 'kastne', 'kasten', 'kanset', 'kanste', 'kanest', 'kanets', 'kantse', 'kantes', 'kaesnt', 'kaestn', 'kaenst', 'kaents', 'kaetsn', 'kaetns', 'katsne', 'katsen', 'katnse', 'katnes', 'katesn', 'katens', 'knsaet', 'knsate', 'knseat', 'knseta', 'knstae', 'knstea', 'knaset', 'knaste', 'knaest', 'knaets', 'knatse', 'knates', 'knesat', 'knesta', 'kneast', 'kneats', 'knetsa', 'knetas', 'kntsae', 'kntsea', 'kntase', 'kntaes', 'kntesa', 'knteas', 'kesant', 'kesatn', 'kesnat', 'kesnta', 'kestan', 'kestna', 'keasnt', 'keastn', 'keanst', 'keants', 'keatsn', 'keatns', 'kensat', 'kensta', 'kenast', 'kenats', 'kentsa', 'kentas', 'ketsan', 'ketsna', 'ketasn', 'ketans', 'ketnsa', 'ketnas', 'ktsane', 'ktsaen', 'ktsnae', 'ktsnea', 'ktsean', 'ktsena', 'ktasne', 'ktasen', 'ktanse', 'ktanes', 'ktaesn', 'ktaens', 'ktnsae', 'ktnsea', 'ktnase', 'ktnaes', 'ktnesa', 'ktneas', 'ktesan', 'ktesna', 'kteasn', 'kteans', 'ktensa', 'ktenas', 'esankt', 'esantk', 'esaknt', 'esaktn', 'esatnk', 'esatkn', 'esnakt', 'esnatk', 'esnkat', 'esnkta', 'esntak', 'esntka', 'eskant', 'eskatn', 'esknat', 'esknta', 'esktan', 'esktna', 'estank', 'estakn', 'estnak', 'estnka', 'estkan', 'estkna', 'easnkt', 'easntk', 'easknt', 'easktn', 'eastnk', 'eastkn', 'eanskt', 'eanstk', 'eankst', 'eankts', 'eantsk', 'eantks', 'eaksnt', 'eakstn', 'eaknst', 'eaknts', 'eaktsn', 'eaktns', 'eatsnk', 'eatskn', 'eatnsk', 'eatnks', 'eatksn', 'eatkns', 'ensakt', 'ensatk', 'enskat', 'enskta', 'enstak', 'enstka', 'enaskt', 'enastk', 'enakst', 'enakts', 'enatsk', 'enatks', 'enksat', 'enksta', 'enkast', 'enkats', 'enktsa', 'enktas', 'entsak', 'entska', 'entask', 'entaks', 'entksa', 'entkas', 'eksant', 'eksatn', 'eksnat', 'eksnta', 'ekstan', 'ekstna', 'ekasnt', 'ekastn', 'ekanst', 'ekants', 'ekatsn', 'ekatns', 'eknsat', 'eknsta', 'eknast', 'eknats', 'ekntsa', 'ekntas', 'ektsan', 'ektsna', 'ektasn', 'ektans', 'ektnsa', 'ektnas', 'etsank', 'etsakn', 'etsnak', 'etsnka', 'etskan', 'etskna', 'etasnk', 'etaskn', 'etansk', 'etanks', 'etaksn', 'etakns', 'etnsak', 'etnska', 'etnask', 'etnaks', 'etnksa', 'etnkas', 'etksan', 'etksna', 'etkasn', 'etkans', 'etknsa', 'etknas', 'tsanke', 'tsanek', 'tsakne', 'tsaken', 'tsaenk', 'tsaekn', 'tsnake', 'tsnaek', 'tsnkae', 'tsnkea', 'tsneak', 'tsneka', 'tskane', 'tskaen', 'tsknae', 'tsknea', 'tskean', 'tskena', 'tseank', 'tseakn', 'tsenak', 'tsenka', 'tsekan', 'tsekna', 'tasnke', 'tasnek', 'taskne', 'tasken', 'tasenk', 'tasekn', 'tanske', 'tansek', 'tankse', 'tankes', 'tanesk', 'taneks', 'taksne', 'taksen', 'taknse', 'taknes', 'takesn', 'takens', 'taesnk', 'taeskn', 'taensk', 'taenks', 'taeksn', 'taekns', 'tnsake', 'tnsaek', 'tnskae', 'tnskea', 'tnseak', 'tnseka', 'tnaske', 'tnasek', 'tnakse', 'tnakes', 'tnaesk', 'tnaeks', 'tnksae', 'tnksea', 'tnkase', 'tnkaes', 'tnkesa', 'tnkeas', 'tnesak', 'tneska', 'tneask', 'tneaks', 'tneksa', 'tnekas', 'tksane', 'tksaen', 'tksnae', 'tksnea', 'tksean', 'tksena', 'tkasne', 'tkasen', 'tkanse', 'tkanes', 'tkaesn', 'tkaens', 'tknsae', 'tknsea', 'tknase', 'tknaes', 'tknesa', 'tkneas', 'tkesan', 'tkesna', 'tkeasn', 'tkeans', 'tkensa', 'tkenas', 'tesank', 'tesakn', 'tesnak', 'tesnka', 'teskan', 'teskna', 'teasnk', 'teaskn', 'teansk', 'teanks', 'teaksn', 'teakns', 'tensak', 'tenska', 'tenask', 'tenaks', 'tenksa', 'tenkas', 'teksan', 'teksna', 'tekasn', 'tekans', 'teknsa', 'teknas']\n"
     ]
    }
   ],
   "source": [
    "def permutations(s):\n",
    "    result = []\n",
    "\n",
    "    # Base case: if the string is empty, return an empty list with an empty string\n",
    "    if len(s) == 0:\n",
    "        return ['']\n",
    "\n",
    "    # For each character in the string\n",
    "    for i in range(len(s)):\n",
    "        # Get the current character\n",
    "        current_char = s[i]\n",
    "\n",
    "        # Get all permutations of the string without the current character\n",
    "        remaining_chars = s[:i] + s[i+1:]\n",
    "        remaining_permutations = permutations(remaining_chars)\n",
    "\n",
    "        # Append the current character to each permutation of the remaining characters\n",
    "        for permutation in remaining_permutations:\n",
    "            result.append(current_char + permutation)\n",
    "\n",
    "    return result\n",
    "\n",
    "# Test the function\n",
    "string = input(\"Enter a string: \")\n",
    "print(\"Permutations of the string:\")\n",
    "print(permutations(string))\n"
   ]
  }
 ],
 "metadata": {
  "kernelspec": {
   "display_name": "Python 3 (ipykernel)",
   "language": "python",
   "name": "python3"
  },
  "language_info": {
   "codemirror_mode": {
    "name": "ipython",
    "version": 3
   },
   "file_extension": ".py",
   "mimetype": "text/x-python",
   "name": "python",
   "nbconvert_exporter": "python",
   "pygments_lexer": "ipython3",
   "version": "3.9.13"
  }
 },
 "nbformat": 4,
 "nbformat_minor": 5
}
