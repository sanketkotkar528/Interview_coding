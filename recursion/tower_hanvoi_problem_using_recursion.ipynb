{
 "cells": [
  {
   "cell_type": "markdown",
   "id": "ff04f929",
   "metadata": {},
   "source": [
    "# Recursion \n",
    "\n",
    "### Question : Write a recursive function to solve the Towers of Hanoi problem"
   ]
  },
  {
   "cell_type": "markdown",
   "id": "f471228e",
   "metadata": {},
   "source": [
    "In this function:\n",
    "\n",
    "    - We define a recursive function towers_of_hanoi that takes four parameters: n (the number of disks), source (the source rod), auxiliary (the auxiliary rod), and destination (the destination rod).\n",
    "    - The base case is when there's only one disk to move. In this case, we move the disk directly from the source rod to the destination rod.\n",
    "\n",
    "In the recursive case:\n",
    "\n",
    "    - We first move n-1 disks from the source rod to the auxiliary rod using the destination rod as an auxiliary.\n",
    "    - Then, we move the nth disk from the source rod to the destination rod.\n",
    "    - Finally, we move the n-1 disks from the auxiliary rod to the destination rod using the source rod as an auxiliary.\n",
    "    - We call the towers_of_hanoi function with the given number of disks and rods, and print each step to solve the Towers of Hanoi problem.\n",
    "\n",
    "\n",
    "This implementation effectively demonstrates the use of recursion to solve the Towers of Hanoi problem.\n",
    "\n",
    "\n",
    "\n",
    "\n"
   ]
  },
  {
   "cell_type": "code",
   "execution_count": 1,
   "id": "484fd8d5",
   "metadata": {
    "scrolled": true
   },
   "outputs": [
    {
     "name": "stdout",
     "output_type": "stream",
     "text": [
      "Enter the number of disks: 5\n",
      "Steps to solve the Towers of Hanoi problem:\n",
      "Move disk 1 from A to C\n",
      "Move disk 2 from A to B\n",
      "Move disk 1 from C to B\n",
      "Move disk 3 from A to C\n",
      "Move disk 1 from B to A\n",
      "Move disk 2 from B to C\n",
      "Move disk 1 from A to C\n",
      "Move disk 4 from A to B\n",
      "Move disk 1 from C to B\n",
      "Move disk 2 from C to A\n",
      "Move disk 1 from B to A\n",
      "Move disk 3 from C to B\n",
      "Move disk 1 from A to C\n",
      "Move disk 2 from A to B\n",
      "Move disk 1 from C to B\n",
      "Move disk 5 from A to C\n",
      "Move disk 1 from B to A\n",
      "Move disk 2 from B to C\n",
      "Move disk 1 from A to C\n",
      "Move disk 3 from B to A\n",
      "Move disk 1 from C to B\n",
      "Move disk 2 from C to A\n",
      "Move disk 1 from B to A\n",
      "Move disk 4 from B to C\n",
      "Move disk 1 from A to C\n",
      "Move disk 2 from A to B\n",
      "Move disk 1 from C to B\n",
      "Move disk 3 from A to C\n",
      "Move disk 1 from B to A\n",
      "Move disk 2 from B to C\n",
      "Move disk 1 from A to C\n"
     ]
    }
   ],
   "source": [
    "def towers_of_hanoi(n, source, auxiliary, destination):\n",
    "    # Base case: if there's only one disk to move, move it directly from source to destination\n",
    "    if n == 1:\n",
    "        print(f\"Move disk 1 from {source} to {destination}\")\n",
    "        return\n",
    "    \n",
    "    # Move n-1 disks from source to auxiliary using destination as auxiliary rod\n",
    "    towers_of_hanoi(n - 1, source, destination, auxiliary)\n",
    "    \n",
    "    # Move the nth disk from source to destination\n",
    "    print(f\"Move disk {n} from {source} to {destination}\")\n",
    "    \n",
    "    # Move n-1 disks from auxiliary to destination using source as auxiliary rod\n",
    "    towers_of_hanoi(n - 1, auxiliary, source, destination)\n",
    "\n",
    "# Test the function\n",
    "num_disks = int(input(\"Enter the number of disks: \"))\n",
    "print(\"Steps to solve the Towers of Hanoi problem:\")\n",
    "towers_of_hanoi(num_disks, 'A', 'B', 'C')\n"
   ]
  },
  {
   "cell_type": "code",
   "execution_count": null,
   "id": "eedbc2e7",
   "metadata": {},
   "outputs": [],
   "source": []
  },
  {
   "cell_type": "code",
   "execution_count": null,
   "id": "0238c2fc",
   "metadata": {},
   "outputs": [],
   "source": []
  }
 ],
 "metadata": {
  "kernelspec": {
   "display_name": "Python 3 (ipykernel)",
   "language": "python",
   "name": "python3"
  },
  "language_info": {
   "codemirror_mode": {
    "name": "ipython",
    "version": 3
   },
   "file_extension": ".py",
   "mimetype": "text/x-python",
   "name": "python",
   "nbconvert_exporter": "python",
   "pygments_lexer": "ipython3",
   "version": "3.9.13"
  }
 },
 "nbformat": 4,
 "nbformat_minor": 5
}
