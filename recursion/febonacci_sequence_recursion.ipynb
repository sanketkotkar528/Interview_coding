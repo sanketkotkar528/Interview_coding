{
 "cells": [
  {
   "cell_type": "markdown",
   "id": "dc42ac5f",
   "metadata": {},
   "source": [
    "# Recursion\n",
    "\n",
    "### Question : Write a recursive function to compute Fibonacci sequence.\n"
   ]
  },
  {
   "cell_type": "code",
   "execution_count": 4,
   "id": "cb553087",
   "metadata": {},
   "outputs": [
    {
     "name": "stdout",
     "output_type": "stream",
     "text": [
      "Enter the number of terms in the Fibonacci sequence: 10\n",
      "Fibonacci sequence:\n",
      "0 1 1 2 3 5 8 13 21 34 "
     ]
    }
   ],
   "source": [
    "def fibonacci(n):\n",
    "    # Base cases: Fib(0) = 0, Fib(1) = 1\n",
    "    if n == 0:\n",
    "        return 0\n",
    "    elif n == 1:\n",
    "        return 1\n",
    "    # Recursive case: Fib(n) = Fib(n-1) + Fib(n-2)\n",
    "    else:\n",
    "        return fibonacci(n - 1) + fibonacci(n - 2)\n",
    "\n",
    "# Test the function\n",
    "num_terms = int(input(\"Enter the number of terms in the Fibonacci sequence: \"))\n",
    "if num_terms <= 0:\n",
    "    print(\"Please enter a positive integer.\")\n",
    "else:\n",
    "    print(\"Fibonacci sequence:\")\n",
    "    for i in range(num_terms):\n",
    "        print(fibonacci(i), end=\" \")\n"
   ]
  },
  {
   "cell_type": "markdown",
   "id": "1b5a617e",
   "metadata": {},
   "source": [
    "In this function:\n",
    "\n",
    "    - We define a recursive function fibonacci that takes an integer n as input.\n",
    "    - The base cases are when n is 0 or 1, in which case the Fibonacci number is defined as 0 or 1 respectively.\n",
    "    - In the recursive case, the Fibonacci number for n is computed by adding the Fibonacci numbers for n-1 and n-2.\n",
    "    - We call the fibonacci function with the input number of terms and print the Fibonacci sequence up to that number of terms.\n",
    "    \n",
    "   \n",
    "This implementation effectively demonstrates the use of recursion to compute the Fibonacci sequence. However, it's worth noting that the recursive approach has exponential time complexity and may not be efficient for large values of n."
   ]
  },
  {
   "cell_type": "code",
   "execution_count": null,
   "id": "1d4c4e3d",
   "metadata": {},
   "outputs": [],
   "source": []
  },
  {
   "cell_type": "code",
   "execution_count": null,
   "id": "8437e3ea",
   "metadata": {},
   "outputs": [],
   "source": []
  },
  {
   "cell_type": "code",
   "execution_count": null,
   "id": "aece6ccd",
   "metadata": {},
   "outputs": [],
   "source": []
  }
 ],
 "metadata": {
  "kernelspec": {
   "display_name": "Python 3 (ipykernel)",
   "language": "python",
   "name": "python3"
  },
  "language_info": {
   "codemirror_mode": {
    "name": "ipython",
    "version": 3
   },
   "file_extension": ".py",
   "mimetype": "text/x-python",
   "name": "python",
   "nbconvert_exporter": "python",
   "pygments_lexer": "ipython3",
   "version": "3.9.13"
  }
 },
 "nbformat": 4,
 "nbformat_minor": 5
}
