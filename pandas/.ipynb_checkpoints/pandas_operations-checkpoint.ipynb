{
 "cells": [
  {
   "cell_type": "markdown",
   "id": "12bd8713",
   "metadata": {},
   "source": [
    "# Pandas Operations\n",
    "\n",
    "- In this file you will find all the basic and common opearation performed with the help pf Pandas."
   ]
  },
  {
   "cell_type": "code",
   "execution_count": 1,
   "id": "5be183fa",
   "metadata": {},
   "outputs": [],
   "source": [
    "import pandas as pd\n",
    "import numpy as np"
   ]
  },
  {
   "cell_type": "markdown",
   "id": "95c02a08",
   "metadata": {},
   "source": [
    "### Create a Series\n",
    "\n",
    "- There are multiple ways by which we can create the Series\n",
    "1. using list\n",
    "2. using numpy array\n",
    "3. using dictionary\n",
    "4. from scalar value\n",
    "5. from a range"
   ]
  },
  {
   "cell_type": "code",
   "execution_count": 3,
   "id": "021c16c6",
   "metadata": {
    "scrolled": true
   },
   "outputs": [
    {
     "name": "stdout",
     "output_type": "stream",
     "text": [
      "0    1\n",
      "1    2\n",
      "2    3\n",
      "3    4\n",
      "4    5\n",
      "dtype: int64\n"
     ]
    }
   ],
   "source": [
    "# Using list\n",
    "data_list = [1,2,3,4,5]\n",
    "series_from_list = pd.Series(data_list)\n",
    "print(series_from_list)"
   ]
  },
  {
   "cell_type": "code",
   "execution_count": 4,
   "id": "01f28d67",
   "metadata": {},
   "outputs": [
    {
     "name": "stdout",
     "output_type": "stream",
     "text": [
      "0    1\n",
      "1    3\n",
      "2    2\n",
      "3    4\n",
      "4    5\n",
      "5    5\n",
      "dtype: int32\n"
     ]
    }
   ],
   "source": [
    "# Using Numpy array\n",
    "numpy_array = np.array([1,3,2,4,5,5])\n",
    "series_from_array = pd.Series(numpy_array)\n",
    "print(series_from_array)"
   ]
  },
  {
   "cell_type": "code",
   "execution_count": 5,
   "id": "95dcc04d",
   "metadata": {},
   "outputs": [
    {
     "name": "stdout",
     "output_type": "stream",
     "text": [
      "a    1\n",
      "b    2\n",
      "c    3\n",
      "dtype: int64\n"
     ]
    }
   ],
   "source": [
    "# From Dictionary\n",
    "data_dict = {'a':1,'b':2,'c':3}\n",
    "series_from_dict = pd.Series(data_dict)\n",
    "print(series_from_dict)"
   ]
  },
  {
   "cell_type": "code",
   "execution_count": 6,
   "id": "e3ebd2b0",
   "metadata": {},
   "outputs": [
    {
     "name": "stdout",
     "output_type": "stream",
     "text": [
      "a    5\n",
      "b    5\n",
      "c    5\n",
      "d    5\n",
      "e    5\n",
      "dtype: int64\n"
     ]
    }
   ],
   "source": [
    "# From scalar value\n",
    "scalar_value = 5\n",
    "index_label = ['a','b','c','d','e']\n",
    "series_from_scalar = pd.Series(scalar_value, index=index_label)\n",
    "print(series_from_scalar)"
   ]
  },
  {
   "cell_type": "code",
   "execution_count": 7,
   "id": "7ecd0c62",
   "metadata": {},
   "outputs": [
    {
     "name": "stdout",
     "output_type": "stream",
     "text": [
      "0     0\n",
      "1    10\n",
      "2    20\n",
      "3    30\n",
      "4    40\n",
      "dtype: int64\n"
     ]
    }
   ],
   "source": [
    "# From a Range\n",
    "start = 0\n",
    "stop = 50\n",
    "step = 10\n",
    "series_range = pd.Series(pd.RangeIndex(start,stop,step))\n",
    "print(series_range)"
   ]
  },
  {
   "cell_type": "markdown",
   "id": "4ffca839",
   "metadata": {},
   "source": [
    "### Create the DataFrame\n",
    "\n",
    "- There are multiple ways to create the `DataFrame`\n",
    "1. From Dictionary of list or arrays\n",
    "2. From lists of dictionary\n",
    "3. From list of lists or arrays with column and Index Labels\n"
   ]
  },
  {
   "cell_type": "code",
   "execution_count": 8,
   "id": "85f093d1",
   "metadata": {},
   "outputs": [
    {
     "name": "stdout",
     "output_type": "stream",
     "text": [
      "      Name  Age  Gender\n",
      "0     John   25    Male\n",
      "1     Emma   30  Female\n",
      "2    James   35    Male\n",
      "3   Olivia   40  Female\n",
      "4  William   45    Male\n"
     ]
    }
   ],
   "source": [
    "# From dictionary of lists or arrays\n",
    "data = {'Name': ['John', 'Emma', 'James', 'Olivia', 'William'],\n",
    "        'Age': [25, 30, 35, 40, 45],\n",
    "        'Gender': ['Male', 'Female', 'Male', 'Female', 'Male']}\n",
    "df_from_dict = pd.DataFrame(data)\n",
    "print(df_from_dict)"
   ]
  },
  {
   "cell_type": "code",
   "execution_count": 9,
   "id": "bce80b11",
   "metadata": {},
   "outputs": [
    {
     "name": "stdout",
     "output_type": "stream",
     "text": [
      "      Name  Age  Gender\n",
      "0     John   25    Male\n",
      "1     Emma   30  Female\n",
      "2    James   35    Male\n",
      "3   Olivia   40  Female\n",
      "4  William   45    Male\n"
     ]
    }
   ],
   "source": [
    "# From list of dictionary\n",
    "\n",
    "data = [{'Name': 'John', 'Age': 25, 'Gender': 'Male'},\n",
    "        {'Name': 'Emma', 'Age': 30, 'Gender': 'Female'},\n",
    "        {'Name': 'James', 'Age': 35, 'Gender': 'Male'},\n",
    "        {'Name': 'Olivia', 'Age': 40, 'Gender': 'Female'},\n",
    "        {'Name': 'William', 'Age': 45, 'Gender': 'Male'}]\n",
    "df_from_list_of_dicts = pd.DataFrame(data)\n",
    "print(df_from_list_of_dicts)"
   ]
  },
  {
   "cell_type": "code",
   "execution_count": 10,
   "id": "2ef0017a",
   "metadata": {},
   "outputs": [
    {
     "name": "stdout",
     "output_type": "stream",
     "text": [
      "      Name  Age  Gender\n",
      "A     John   25    Male\n",
      "B     Emma   30  Female\n",
      "C    James   35    Male\n",
      "D   Olivia   40  Female\n",
      "E  William   45    Male\n"
     ]
    }
   ],
   "source": [
    "# From list of lists or arrays with column and Index labels\n",
    "\n",
    "data = [['John', 25, 'Male'],\n",
    "        ['Emma', 30, 'Female'],\n",
    "        ['James', 35, 'Male'],\n",
    "        ['Olivia', 40, 'Female'],\n",
    "        ['William', 45, 'Male']]\n",
    "columns = ['Name', 'Age', 'Gender']\n",
    "index = ['A', 'B', 'C', 'D', 'E']\n",
    "df_from_list_of_lists = pd.DataFrame(data, columns=columns, index=index)\n",
    "print(df_from_list_of_lists)\n"
   ]
  },
  {
   "cell_type": "markdown",
   "id": "9ef93998",
   "metadata": {},
   "source": [
    "### Add rows in the existing Dataframe\n",
    "- There are multiple ways to create the Dataframe\n",
    "1. using appending rows to dataframe\n",
    "    - As this append function is going to be removed from the latest version of the pandas library, it is suggested that no to use this function\n",
    "2. Using loc method\n",
    "2. using concat"
   ]
  },
  {
   "cell_type": "code",
   "execution_count": 27,
   "id": "400548dd",
   "metadata": {},
   "outputs": [
    {
     "name": "stdout",
     "output_type": "stream",
     "text": [
      "     Name  Age  Gender\n",
      "0    John   25    Male\n",
      "1    Emma   30  Female\n",
      "2   James   35    Male\n",
      "3  Olivia   40  Female\n"
     ]
    },
    {
     "name": "stderr",
     "output_type": "stream",
     "text": [
      "C:\\Users\\sanke\\AppData\\Local\\Temp\\ipykernel_55824\\4121359596.py:13: FutureWarning: The frame.append method is deprecated and will be removed from pandas in a future version. Use pandas.concat instead.\n",
      "  df = df.append(new_row, ignore_index=True)\n"
     ]
    }
   ],
   "source": [
    "# We can add multiple rows by using this append function\n",
    "\n",
    "# Existing DataFrame\n",
    "data = {'Name': ['John', 'Emma', 'James'],\n",
    "        'Age': [25, 30, 35],\n",
    "        'Gender': ['Male', 'Female', 'Male']}\n",
    "df = pd.DataFrame(data)\n",
    "\n",
    "# Dictionary representing the new row\n",
    "new_row = {'Name': 'Olivia', 'Age': 40, 'Gender': 'Female'}\n",
    "\n",
    "# Appending the new row\n",
    "df = df.append(new_row, ignore_index=True)\n",
    "print(df)"
   ]
  },
  {
   "cell_type": "code",
   "execution_count": 28,
   "id": "c556da06",
   "metadata": {},
   "outputs": [
    {
     "name": "stdout",
     "output_type": "stream",
     "text": [
      "     Name  Age  Gender\n",
      "0    John   25    Male\n",
      "1    Emma   30  Female\n",
      "2   James   35    Male\n",
      "3  Olivia   40  Female\n"
     ]
    }
   ],
   "source": [
    "import pandas as pd\n",
    "\n",
    "# Existing DataFrame\n",
    "data = {'Name': ['John', 'Emma', 'James'],\n",
    "        'Age': [25, 30, 35],\n",
    "        'Gender': ['Male', 'Female', 'Male']}\n",
    "df = pd.DataFrame(data)\n",
    "\n",
    "# Adding a row using loc\n",
    "df.loc[3] = ['Olivia', 40, 'Female']\n",
    "print(df)\n"
   ]
  },
  {
   "cell_type": "code",
   "execution_count": 29,
   "id": "9cfeabb7",
   "metadata": {},
   "outputs": [
    {
     "name": "stdout",
     "output_type": "stream",
     "text": [
      "     Name  Age  Gender\n",
      "0    John   25    Male\n",
      "1    Emma   30  Female\n",
      "2   James   35    Male\n",
      "0  Olivia   40  Female\n"
     ]
    }
   ],
   "source": [
    "# Using the concat function\n",
    "\n",
    "# Existing DataFrame\n",
    "data = {'Name': ['John', 'Emma', 'James'],\n",
    "        'Age': [25, 30, 35],\n",
    "        'Gender': ['Male', 'Female', 'Male']}\n",
    "df = pd.DataFrame(data)\n",
    "\n",
    "# Dictionary representing the new row\n",
    "new_row = {'Name': ['Olivia'], 'Age': [40], 'Gender': ['Female']}\n",
    "temp = pd.DataFrame(new_row)\n",
    "\n",
    "# Concating the dataframe\n",
    "df = pd.concat([df, temp])\n",
    "print(df)"
   ]
  },
  {
   "cell_type": "code",
   "execution_count": null,
   "id": "3ad77c49",
   "metadata": {},
   "outputs": [],
   "source": []
  },
  {
   "cell_type": "markdown",
   "id": "52c7586a",
   "metadata": {},
   "source": [
    "### Data Loading and Saving"
   ]
  },
  {
   "cell_type": "markdown",
   "id": "bb2cf39b",
   "metadata": {},
   "source": [
    "- Load the SQL data"
   ]
  },
  {
   "cell_type": "code",
   "execution_count": null,
   "id": "2b50205f",
   "metadata": {},
   "outputs": [],
   "source": [
    "# Laoding the SQL data into pandas dataframe\n",
    "import pandas as pd\n",
    "import sqlite3\n",
    "\n",
    "# Establishing a connection to the SQL database\n",
    "conn = sqlite3.connect('your_database.db')  # Replace 'your_database.db' with the path to your SQLite database\n",
    "# If you are using a different SQL database like MySQL, PostgreSQL, etc.,\n",
    "# you would need to use appropriate connection parameters and libraries for that specific database.\n",
    "\n",
    "# Writing your SQL query\n",
    "query = \"SELECT * FROM your_table;\"  # Replace 'your_table' with the name of the table you want to query\n",
    "\n",
    "# Loading data into a DataFrame\n",
    "df = pd.read_sql(query, conn)\n",
    "\n",
    "# Closing the database connection\n",
    "conn.close()\n",
    "\n",
    "# Displaying the DataFrame\n",
    "print(df)\n"
   ]
  },
  {
   "cell_type": "markdown",
   "id": "be485e11",
   "metadata": {},
   "source": [
    "- Load the html file"
   ]
  },
  {
   "cell_type": "code",
   "execution_count": null,
   "id": "3399a375",
   "metadata": {},
   "outputs": [],
   "source": [
    "import pandas as pd\n",
    "\n",
    "# Reading HTML file into a list of DataFrames\n",
    "dfs = pd.read_html('your_file.html')  # Replace 'your_file.html' with the path to your HTML file\n",
    "\n",
    "# Accessing the DataFrame(s) from the list\n",
    "for i, df in enumerate(dfs):\n",
    "    print(f\"DataFrame {i + 1}:\")\n",
    "    print(df)\n",
    "    print()\n"
   ]
  },
  {
   "cell_type": "markdown",
   "id": "07f52668",
   "metadata": {},
   "source": [
    "- Load the json file"
   ]
  },
  {
   "cell_type": "code",
   "execution_count": null,
   "id": "91a410df",
   "metadata": {},
   "outputs": [],
   "source": [
    "import pandas as pd\n",
    "\n",
    "# Reading JSON file into a DataFrame\n",
    "df = pd.read_json('your_file.json')  # Replace 'your_file.json' with the path to your JSON file\n",
    "\n",
    "# Displaying the DataFrame\n",
    "print(df)"
   ]
  },
  {
   "cell_type": "markdown",
   "id": "050fcfbb",
   "metadata": {},
   "source": [
    "### Reshape the data"
   ]
  },
  {
   "cell_type": "markdown",
   "id": "a0f29167",
   "metadata": {},
   "source": [
    "- Pivot table"
   ]
  },
  {
   "cell_type": "markdown",
   "id": "19806766",
   "metadata": {},
   "source": [
    "**pivot(): Reshape data based on column values.**"
   ]
  },
  {
   "cell_type": "code",
   "execution_count": 30,
   "id": "31c0e6fc",
   "metadata": {},
   "outputs": [
    {
     "name": "stdout",
     "output_type": "stream",
     "text": [
      "City        Chicago  Los Angeles  New York\n",
      "Date                                      \n",
      "2022-01-01      NaN          NaN      32.0\n",
      "2022-01-02      NaN         75.0       NaN\n",
      "2022-01-03     50.0          NaN       NaN\n"
     ]
    }
   ],
   "source": [
    "# Creating a DataFrame\n",
    "data = {'Date': ['2022-01-01', '2022-01-02', '2022-01-03'],\n",
    "        'City': ['New York', 'Los Angeles', 'Chicago'],\n",
    "        'Temperature': [32, 75, 50]}\n",
    "df = pd.DataFrame(data)\n",
    "\n",
    "# Reshaping using pivot\n",
    "pivot_df = df.pivot(index='Date', columns='City', values='Temperature')\n",
    "print(pivot_df)"
   ]
  },
  {
   "cell_type": "markdown",
   "id": "b5d7ec34",
   "metadata": {},
   "source": [
    "**pivot_table(): Reshape data while handling duplicate entries by aggregating values.**"
   ]
  },
  {
   "cell_type": "code",
   "execution_count": 32,
   "id": "310d0320",
   "metadata": {},
   "outputs": [
    {
     "name": "stdout",
     "output_type": "stream",
     "text": [
      "City        Chicago  Los Angeles  New York\n",
      "Date                                      \n",
      "2022-01-01      NaN          NaN      32.0\n",
      "2022-01-02      NaN         75.0       NaN\n",
      "2022-01-03     50.0          NaN       NaN\n"
     ]
    }
   ],
   "source": [
    "# Using pivot_table\n",
    "pivot_table_df = df.pivot_table(index='Date', columns='City', values='Temperature', aggfunc='mean')\n",
    "print(pivot_table_df)"
   ]
  },
  {
   "cell_type": "markdown",
   "id": "6a130045",
   "metadata": {},
   "source": [
    "**stack(): Reshape data by pivoting the innermost level of column labels.**"
   ]
  },
  {
   "cell_type": "code",
   "execution_count": 33,
   "id": "371416ad",
   "metadata": {},
   "outputs": [
    {
     "name": "stdout",
     "output_type": "stream",
     "text": [
      "Date        City       \n",
      "2022-01-01  New York       32.0\n",
      "2022-01-02  Los Angeles    75.0\n",
      "2022-01-03  Chicago        50.0\n",
      "dtype: float64\n"
     ]
    }
   ],
   "source": [
    "# Using stack\n",
    "stacked_df = pivot_df.stack()\n",
    "print(stacked_df)"
   ]
  },
  {
   "cell_type": "markdown",
   "id": "ae8ae714",
   "metadata": {},
   "source": [
    "**unstack(): Reverse the operation of stack, pivoting the innermost level of row labels**"
   ]
  },
  {
   "cell_type": "code",
   "execution_count": 35,
   "id": "9859d0ea",
   "metadata": {},
   "outputs": [
    {
     "name": "stdout",
     "output_type": "stream",
     "text": [
      "City        Chicago  Los Angeles  New York\n",
      "Date                                      \n",
      "2022-01-01      NaN          NaN      32.0\n",
      "2022-01-02      NaN         75.0       NaN\n",
      "2022-01-03     50.0          NaN       NaN\n"
     ]
    }
   ],
   "source": [
    "# Using unstack\n",
    "unstacked_df = stacked_df.unstack()\n",
    "print(unstacked_df)"
   ]
  },
  {
   "cell_type": "markdown",
   "id": "eaf9c97c",
   "metadata": {},
   "source": [
    "### Concat"
   ]
  },
  {
   "cell_type": "code",
   "execution_count": 37,
   "id": "c9f4123b",
   "metadata": {},
   "outputs": [
    {
     "name": "stdout",
     "output_type": "stream",
     "text": [
      "   A   B\n",
      "0  1   4\n",
      "1  2   5\n",
      "2  3   6\n",
      "0  7  10\n",
      "1  8  11\n",
      "2  9  12\n"
     ]
    }
   ],
   "source": [
    "# Creating two DataFrames\n",
    "df1 = pd.DataFrame({'A': [1, 2, 3],\n",
    "                    'B': [4, 5, 6]})\n",
    "df2 = pd.DataFrame({'A': [7, 8, 9],\n",
    "                    'B': [10, 11, 12]})\n",
    "\n",
    "# Concatenating along rows\n",
    "result = pd.concat([df1, df2], axis=0)\n",
    "print(result)"
   ]
  },
  {
   "cell_type": "code",
   "execution_count": null,
   "id": "7652646e",
   "metadata": {},
   "outputs": [],
   "source": []
  },
  {
   "cell_type": "markdown",
   "id": "c9f53f24",
   "metadata": {},
   "source": [
    "### Merge\n",
    "\n",
    "- Merge function is based on the column's values. It allows you to merge the dataframe based on common columns or columns with different names."
   ]
  },
  {
   "cell_type": "markdown",
   "id": "ae15336c",
   "metadata": {},
   "source": [
    "- Inner Merge : An inner merge returns only the rows that have matching values in both DataFrames."
   ]
  },
  {
   "cell_type": "code",
   "execution_count": 39,
   "id": "39a3d701",
   "metadata": {},
   "outputs": [
    {
     "name": "stdout",
     "output_type": "stream",
     "text": [
      "  key  value_x  value_y\n",
      "0   B        2        5\n",
      "1   D        4        6\n"
     ]
    }
   ],
   "source": [
    "# Creating two DataFrames\n",
    "df1 = pd.DataFrame({'key': ['A', 'B', 'C', 'D'],\n",
    "                    'value': [1, 2, 3, 4]})\n",
    "df2 = pd.DataFrame({'key': ['B', 'D', 'E', 'F'],\n",
    "                    'value': [5, 6, 7, 8]})\n",
    "\n",
    "# Performing inner merge\n",
    "inner_merge = pd.merge(df1, df2, on='key', how='inner')\n",
    "print(inner_merge)\n"
   ]
  },
  {
   "cell_type": "markdown",
   "id": "fa12d6ff",
   "metadata": {},
   "source": [
    "- Left merge : A left merge returns all the rows from the left DataFrame and the matched rows from the right DataFrame. If there is no match, NaN values are filled."
   ]
  },
  {
   "cell_type": "code",
   "execution_count": 40,
   "id": "655272fe",
   "metadata": {},
   "outputs": [
    {
     "name": "stdout",
     "output_type": "stream",
     "text": [
      "  key  value_x  value_y\n",
      "0   A        1      NaN\n",
      "1   B        2      5.0\n",
      "2   C        3      NaN\n",
      "3   D        4      6.0\n"
     ]
    }
   ],
   "source": [
    "# Performing left merge\n",
    "left_merge = pd.merge(df1, df2, on='key', how='left')\n",
    "print(left_merge)"
   ]
  },
  {
   "cell_type": "markdown",
   "id": "a906a37b",
   "metadata": {},
   "source": [
    "- Right Merge : A right merge returns all the rows from the right DataFrame and the matched rows from the left DataFrame. If there is no match, NaN values are filled."
   ]
  },
  {
   "cell_type": "code",
   "execution_count": 41,
   "id": "df315ba0",
   "metadata": {},
   "outputs": [
    {
     "name": "stdout",
     "output_type": "stream",
     "text": [
      "  key  value_x  value_y\n",
      "0   B      2.0        5\n",
      "1   D      4.0        6\n",
      "2   E      NaN        7\n",
      "3   F      NaN        8\n"
     ]
    }
   ],
   "source": [
    "# Performing right merge\n",
    "right_merge = pd.merge(df1, df2, on='key', how='right')\n",
    "print(right_merge)\n"
   ]
  },
  {
   "cell_type": "markdown",
   "id": "f734c831",
   "metadata": {},
   "source": [
    "- Outer Merge : An outer merge returns all the rows from both DataFrames and fills in NaN values for missing matches."
   ]
  },
  {
   "cell_type": "code",
   "execution_count": 43,
   "id": "dd251a86",
   "metadata": {},
   "outputs": [
    {
     "name": "stdout",
     "output_type": "stream",
     "text": [
      "  key  value_x  value_y\n",
      "0   A      1.0      NaN\n",
      "1   B      2.0      5.0\n",
      "2   C      3.0      NaN\n",
      "3   D      4.0      6.0\n",
      "4   E      NaN      7.0\n",
      "5   F      NaN      8.0\n"
     ]
    }
   ],
   "source": [
    "# Performing outer merge\n",
    "outer_merge = pd.merge(df1, df2, on='key', how='outer')\n",
    "print(outer_merge)\n"
   ]
  },
  {
   "cell_type": "markdown",
   "id": "e9414031",
   "metadata": {},
   "source": [
    "### Join\n",
    "\n",
    "- Join is based on the indexes of the dataframe. It allows you to join the Dataframes based on theie Indexes"
   ]
  },
  {
   "cell_type": "code",
   "execution_count": null,
   "id": "ac2f0164",
   "metadata": {},
   "outputs": [],
   "source": []
  },
  {
   "cell_type": "code",
   "execution_count": null,
   "id": "567ab662",
   "metadata": {},
   "outputs": [],
   "source": []
  },
  {
   "cell_type": "code",
   "execution_count": null,
   "id": "3e13fb45",
   "metadata": {},
   "outputs": [],
   "source": []
  },
  {
   "cell_type": "code",
   "execution_count": null,
   "id": "638fc85e",
   "metadata": {},
   "outputs": [],
   "source": []
  },
  {
   "cell_type": "code",
   "execution_count": null,
   "id": "926bbb64",
   "metadata": {},
   "outputs": [],
   "source": []
  },
  {
   "cell_type": "code",
   "execution_count": null,
   "id": "e029c0ef",
   "metadata": {},
   "outputs": [],
   "source": []
  },
  {
   "cell_type": "code",
   "execution_count": null,
   "id": "ede1355c",
   "metadata": {},
   "outputs": [],
   "source": []
  },
  {
   "cell_type": "code",
   "execution_count": null,
   "id": "6664706d",
   "metadata": {},
   "outputs": [],
   "source": []
  },
  {
   "cell_type": "code",
   "execution_count": null,
   "id": "f5878e98",
   "metadata": {},
   "outputs": [],
   "source": []
  }
 ],
 "metadata": {
  "kernelspec": {
   "display_name": "Python 3 (ipykernel)",
   "language": "python",
   "name": "python3"
  },
  "language_info": {
   "codemirror_mode": {
    "name": "ipython",
    "version": 3
   },
   "file_extension": ".py",
   "mimetype": "text/x-python",
   "name": "python",
   "nbconvert_exporter": "python",
   "pygments_lexer": "ipython3",
   "version": "3.9.13"
  }
 },
 "nbformat": 4,
 "nbformat_minor": 5
}
